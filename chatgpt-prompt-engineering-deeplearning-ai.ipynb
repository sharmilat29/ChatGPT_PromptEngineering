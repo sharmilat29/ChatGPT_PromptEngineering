{
 "cells": [
  {
   "cell_type": "code",
   "execution_count": 1,
   "id": "e3080720",
   "metadata": {
    "_cell_guid": "b1076dfc-b9ad-4769-8c92-a6c4dae69d19",
    "_uuid": "8f2839f25d086af736a60e9eeb907d3b93b6e0e5",
    "execution": {
     "iopub.execute_input": "2024-03-29T20:40:10.365229Z",
     "iopub.status.busy": "2024-03-29T20:40:10.364467Z",
     "iopub.status.idle": "2024-03-29T20:40:11.290287Z",
     "shell.execute_reply": "2024-03-29T20:40:11.289334Z"
    },
    "papermill": {
     "duration": 0.936353,
     "end_time": "2024-03-29T20:40:11.292830",
     "exception": false,
     "start_time": "2024-03-29T20:40:10.356477",
     "status": "completed"
    },
    "tags": []
   },
   "outputs": [],
   "source": [
    "# This Python 3 environment comes with many helpful analytics libraries installed\n",
    "# It is defined by the kaggle/python Docker image: https://github.com/kaggle/docker-python\n",
    "# For example, here's several helpful packages to load\n",
    "\n",
    "import numpy as np # linear algebra\n",
    "import pandas as pd # data processing, CSV file I/O (e.g. pd.read_csv)\n",
    "\n",
    "# Input data files are available in the read-only \"../input/\" directory\n",
    "# For example, running this (by clicking run or pressing Shift+Enter) will list all files under the input directory\n",
    "\n",
    "import os\n",
    "for dirname, _, filenames in os.walk('/kaggle/input'):\n",
    "    for filename in filenames:\n",
    "        print(os.path.join(dirname, filename))\n",
    "\n",
    "# You can write up to 20GB to the current directory (/kaggle/working/) that gets preserved as output when you create a version using \"Save & Run All\" \n",
    "# You can also write temporary files to /kaggle/temp/, but they won't be saved outside of the current session"
   ]
  },
  {
   "cell_type": "code",
   "execution_count": 2,
   "id": "6ca2ec4f",
   "metadata": {
    "execution": {
     "iopub.execute_input": "2024-03-29T20:40:11.308625Z",
     "iopub.status.busy": "2024-03-29T20:40:11.308099Z",
     "iopub.status.idle": "2024-03-29T20:40:25.949475Z",
     "shell.execute_reply": "2024-03-29T20:40:25.947996Z"
    },
    "papermill": {
     "duration": 14.651898,
     "end_time": "2024-03-29T20:40:25.952019",
     "exception": false,
     "start_time": "2024-03-29T20:40:11.300121",
     "status": "completed"
    },
    "tags": []
   },
   "outputs": [
    {
     "name": "stdout",
     "output_type": "stream",
     "text": [
      "Collecting openai\r\n",
      "  Downloading openai-1.14.3-py3-none-any.whl.metadata (20 kB)\r\n",
      "Requirement already satisfied: anyio<5,>=3.5.0 in /opt/conda/lib/python3.10/site-packages (from openai) (4.2.0)\r\n",
      "Requirement already satisfied: distro<2,>=1.7.0 in /opt/conda/lib/python3.10/site-packages (from openai) (1.9.0)\r\n",
      "Requirement already satisfied: httpx<1,>=0.23.0 in /opt/conda/lib/python3.10/site-packages (from openai) (0.27.0)\r\n",
      "Requirement already satisfied: pydantic<3,>=1.9.0 in /opt/conda/lib/python3.10/site-packages (from openai) (2.5.3)\r\n",
      "Requirement already satisfied: sniffio in /opt/conda/lib/python3.10/site-packages (from openai) (1.3.0)\r\n",
      "Requirement already satisfied: tqdm>4 in /opt/conda/lib/python3.10/site-packages (from openai) (4.66.1)\r\n",
      "Requirement already satisfied: typing-extensions<5,>=4.7 in /opt/conda/lib/python3.10/site-packages (from openai) (4.9.0)\r\n",
      "Requirement already satisfied: idna>=2.8 in /opt/conda/lib/python3.10/site-packages (from anyio<5,>=3.5.0->openai) (3.6)\r\n",
      "Requirement already satisfied: exceptiongroup>=1.0.2 in /opt/conda/lib/python3.10/site-packages (from anyio<5,>=3.5.0->openai) (1.2.0)\r\n",
      "Requirement already satisfied: certifi in /opt/conda/lib/python3.10/site-packages (from httpx<1,>=0.23.0->openai) (2024.2.2)\r\n",
      "Requirement already satisfied: httpcore==1.* in /opt/conda/lib/python3.10/site-packages (from httpx<1,>=0.23.0->openai) (1.0.4)\r\n",
      "Requirement already satisfied: h11<0.15,>=0.13 in /opt/conda/lib/python3.10/site-packages (from httpcore==1.*->httpx<1,>=0.23.0->openai) (0.14.0)\r\n",
      "Requirement already satisfied: annotated-types>=0.4.0 in /opt/conda/lib/python3.10/site-packages (from pydantic<3,>=1.9.0->openai) (0.6.0)\r\n",
      "Requirement already satisfied: pydantic-core==2.14.6 in /opt/conda/lib/python3.10/site-packages (from pydantic<3,>=1.9.0->openai) (2.14.6)\r\n",
      "Downloading openai-1.14.3-py3-none-any.whl (262 kB)\r\n",
      "\u001b[2K   \u001b[90m━━━━━━━━━━━━━━━━━━━━━━━━━━━━━━━━━━━━━━━━\u001b[0m \u001b[32m262.9/262.9 kB\u001b[0m \u001b[31m5.4 MB/s\u001b[0m eta \u001b[36m0:00:00\u001b[0m\r\n",
      "\u001b[?25hInstalling collected packages: openai\r\n",
      "Successfully installed openai-1.14.3\r\n",
      "Note: you may need to restart the kernel to use updated packages.\n"
     ]
    }
   ],
   "source": [
    "pip install openai"
   ]
  },
  {
   "cell_type": "code",
   "execution_count": 3,
   "id": "c9447e0a",
   "metadata": {
    "execution": {
     "iopub.execute_input": "2024-03-29T20:40:25.967306Z",
     "iopub.status.busy": "2024-03-29T20:40:25.966841Z",
     "iopub.status.idle": "2024-03-29T20:40:27.339046Z",
     "shell.execute_reply": "2024-03-29T20:40:27.337910Z"
    },
    "papermill": {
     "duration": 1.383629,
     "end_time": "2024-03-29T20:40:27.342199",
     "exception": false,
     "start_time": "2024-03-29T20:40:25.958570",
     "status": "completed"
    },
    "tags": []
   },
   "outputs": [],
   "source": [
    "import openai\n",
    "import os\n",
    "\n",
    "from kaggle_secrets import UserSecretsClient\n",
    "user_secrets = UserSecretsClient()\n",
    "\n",
    "openai.api_key = user_secrets.get_secret(\"OPENAI_API_KEY\")"
   ]
  },
  {
   "cell_type": "code",
   "execution_count": 4,
   "id": "3f38a4ee",
   "metadata": {
    "execution": {
     "iopub.execute_input": "2024-03-29T20:40:27.361740Z",
     "iopub.status.busy": "2024-03-29T20:40:27.361292Z",
     "iopub.status.idle": "2024-03-29T20:40:27.367852Z",
     "shell.execute_reply": "2024-03-29T20:40:27.366667Z"
    },
    "papermill": {
     "duration": 0.017654,
     "end_time": "2024-03-29T20:40:27.370000",
     "exception": false,
     "start_time": "2024-03-29T20:40:27.352346",
     "status": "completed"
    },
    "tags": []
   },
   "outputs": [],
   "source": [
    "# Defining a chat completion helper function\n",
    "\n",
    "def get_completion(prompt, model = \"gpt-3.5-turbo\"):\n",
    "    messages = [{\"role\": \"user\", \"content\": prompt}]\n",
    "    response = openai.chat.completions.create(\n",
    "        model = model,\n",
    "        messages = messages,\n",
    "        temperature = 0,\n",
    "    )\n",
    "    return response.choices[0].message.content"
   ]
  },
  {
   "cell_type": "markdown",
   "id": "95adbfc7",
   "metadata": {
    "papermill": {
     "duration": 0.00611,
     "end_time": "2024-03-29T20:40:27.382670",
     "exception": false,
     "start_time": "2024-03-29T20:40:27.376560",
     "status": "completed"
    },
    "tags": []
   },
   "source": [
    "# **Guidelines for Prompting**"
   ]
  },
  {
   "cell_type": "markdown",
   "id": "74593ece",
   "metadata": {
    "papermill": {
     "duration": 0.006091,
     "end_time": "2024-03-29T20:40:27.395164",
     "exception": false,
     "start_time": "2024-03-29T20:40:27.389073",
     "status": "completed"
    },
    "tags": []
   },
   "source": [
    "### Principle 1 - Write clear and specific instructions\n",
    "### Principle 2 - Give the model time to \"think\""
   ]
  },
  {
   "cell_type": "markdown",
   "id": "5f7a7e6f",
   "metadata": {
    "papermill": {
     "duration": 0.006049,
     "end_time": "2024-03-29T20:40:27.407481",
     "exception": false,
     "start_time": "2024-03-29T20:40:27.401432",
     "status": "completed"
    },
    "tags": []
   },
   "source": [
    "- Use delimiters to indicate distinct parts of text\n"
   ]
  },
  {
   "cell_type": "code",
   "execution_count": 5,
   "id": "afe44bda",
   "metadata": {
    "execution": {
     "iopub.execute_input": "2024-03-29T20:40:27.422653Z",
     "iopub.status.busy": "2024-03-29T20:40:27.421800Z",
     "iopub.status.idle": "2024-03-29T20:40:29.893235Z",
     "shell.execute_reply": "2024-03-29T20:40:29.891879Z"
    },
    "papermill": {
     "duration": 2.482287,
     "end_time": "2024-03-29T20:40:29.896214",
     "exception": false,
     "start_time": "2024-03-29T20:40:27.413927",
     "status": "completed"
    },
    "tags": []
   },
   "outputs": [
    {
     "name": "stdout",
     "output_type": "stream",
     "text": [
      "It is important to provide clear and specific instructions to a model in order to guide it towards the desired output and reduce the chances of receiving irrelevant or incorrect responses, with longer prompts often providing more clarity and context for the model.\n"
     ]
    }
   ],
   "source": [
    "text = f\"\"\"\n",
    "You should express what you want a model to do by \\ \n",
    "providing instructions that are as clear and \\ \n",
    "specific as you can possibly make them. \\ \n",
    "This will guide the model towards the desired output, \\ \n",
    "and reduce the chances of receiving irrelevant \\ \n",
    "or incorrect responses. Don't confuse writing a \\ \n",
    "clear prompt with writing a short prompt. \\ \n",
    "In many cases, longer prompts provide more clarity \\ \n",
    "and context for the model, which can lead to \\ \n",
    "more detailed and relevant outputs.\n",
    "\"\"\"\n",
    "prompt = f\"\"\"\n",
    "Summarize the text delimited by triple backticks \\ \n",
    "into a single sentence.\n",
    "```{text}```\n",
    "\"\"\"\n",
    "response = get_completion(prompt)\n",
    "print(response)"
   ]
  },
  {
   "cell_type": "markdown",
   "id": "83bf7439",
   "metadata": {
    "papermill": {
     "duration": 0.006344,
     "end_time": "2024-03-29T20:40:29.909255",
     "exception": false,
     "start_time": "2024-03-29T20:40:29.902911",
     "status": "completed"
    },
    "tags": []
   },
   "source": [
    "- Ask for structured output (JSON, HTML)"
   ]
  },
  {
   "cell_type": "code",
   "execution_count": 6,
   "id": "dbf49e47",
   "metadata": {
    "execution": {
     "iopub.execute_input": "2024-03-29T20:40:29.924128Z",
     "iopub.status.busy": "2024-03-29T20:40:29.923712Z",
     "iopub.status.idle": "2024-03-29T20:40:33.073418Z",
     "shell.execute_reply": "2024-03-29T20:40:33.072325Z"
    },
    "papermill": {
     "duration": 3.159881,
     "end_time": "2024-03-29T20:40:33.075731",
     "exception": false,
     "start_time": "2024-03-29T20:40:29.915850",
     "status": "completed"
    },
    "tags": []
   },
   "outputs": [
    {
     "name": "stdout",
     "output_type": "stream",
     "text": [
      "[\n",
      "    {\n",
      "        \"book_id\": 1,\n",
      "        \"title\": \"The Midnight Garden\",\n",
      "        \"author\": \"Elena Nightingale\",\n",
      "        \"genre\": \"Fantasy\"\n",
      "    },\n",
      "    {\n",
      "        \"book_id\": 2,\n",
      "        \"title\": \"Echoes of Eternity\",\n",
      "        \"author\": \"Lucas Starlight\",\n",
      "        \"genre\": \"Science Fiction\"\n",
      "    },\n",
      "    {\n",
      "        \"book_id\": 3,\n",
      "        \"title\": \"Whispers in the Wind\",\n",
      "        \"author\": \"Aria Moonshadow\",\n",
      "        \"genre\": \"Mystery\"\n",
      "    }\n",
      "]\n"
     ]
    }
   ],
   "source": [
    "prompt = f\"\"\"\n",
    "Generate a list of three made-up book titles along \\ \n",
    "with their authors and genres. \n",
    "Provide them in JSON format with the following keys: \n",
    "book_id, title, author, genre.\n",
    "\"\"\"\n",
    "response = get_completion(prompt)\n",
    "print(response)"
   ]
  },
  {
   "cell_type": "markdown",
   "id": "b7c07c64",
   "metadata": {
    "papermill": {
     "duration": 0.006381,
     "end_time": "2024-03-29T20:40:33.089802",
     "exception": false,
     "start_time": "2024-03-29T20:40:33.083421",
     "status": "completed"
    },
    "tags": []
   },
   "source": [
    "- Ask the model to check whether conditions are satisfied"
   ]
  },
  {
   "cell_type": "code",
   "execution_count": 7,
   "id": "ea5f2221",
   "metadata": {
    "execution": {
     "iopub.execute_input": "2024-03-29T20:40:33.105315Z",
     "iopub.status.busy": "2024-03-29T20:40:33.104102Z",
     "iopub.status.idle": "2024-03-29T20:40:34.660014Z",
     "shell.execute_reply": "2024-03-29T20:40:34.659129Z"
    },
    "papermill": {
     "duration": 1.566316,
     "end_time": "2024-03-29T20:40:34.662609",
     "exception": false,
     "start_time": "2024-03-29T20:40:33.096293",
     "status": "completed"
    },
    "tags": []
   },
   "outputs": [
    {
     "name": "stdout",
     "output_type": "stream",
     "text": [
      "Completion for Text 1:\n",
      "Step 1 - Get some water boiling.\n",
      "Step 2 - Grab a cup and put a tea bag in it.\n",
      "Step 3 - Pour the hot water over the tea bag.\n",
      "Step 4 - Let the tea steep for a few minutes.\n",
      "Step 5 - Remove the tea bag.\n",
      "Step 6 - Add sugar or milk to taste.\n",
      "Step 7 - Enjoy your delicious cup of tea.\n"
     ]
    }
   ],
   "source": [
    "text_1 = f\"\"\"\n",
    "Making a cup of tea is easy! First, you need to get some \\ \n",
    "water boiling. While that's happening, \\ \n",
    "grab a cup and put a tea bag in it. Once the water is \\ \n",
    "hot enough, just pour it over the tea bag. \\ \n",
    "Let it sit for a bit so the tea can steep. After a \\ \n",
    "few minutes, take out the tea bag. If you \\ \n",
    "like, you can add some sugar or milk to taste. \\ \n",
    "And that's it! You've got yourself a delicious \\ \n",
    "cup of tea to enjoy.\n",
    "\"\"\"\n",
    "prompt = f\"\"\"\n",
    "You will be provided with text delimited by triple quotes. \n",
    "If it contains a sequence of instructions, \\ \n",
    "re-write those instructions in the following format:\n",
    "\n",
    "Step 1 - ...\n",
    "Step 2 - …\n",
    "…\n",
    "Step N - …\n",
    "\n",
    "If the text does not contain a sequence of instructions, \\ \n",
    "then simply write \\\"No steps provided.\\\"\n",
    "\n",
    "\\\"\\\"\\\"{text_1}\\\"\\\"\\\"\n",
    "\"\"\"\n",
    "response = get_completion(prompt)\n",
    "print(\"Completion for Text 1:\")\n",
    "print(response)"
   ]
  },
  {
   "cell_type": "code",
   "execution_count": 8,
   "id": "55330677",
   "metadata": {
    "execution": {
     "iopub.execute_input": "2024-03-29T20:40:34.678654Z",
     "iopub.status.busy": "2024-03-29T20:40:34.678255Z",
     "iopub.status.idle": "2024-03-29T20:40:35.166137Z",
     "shell.execute_reply": "2024-03-29T20:40:35.164725Z"
    },
    "papermill": {
     "duration": 0.499145,
     "end_time": "2024-03-29T20:40:35.168588",
     "exception": false,
     "start_time": "2024-03-29T20:40:34.669443",
     "status": "completed"
    },
    "tags": []
   },
   "outputs": [
    {
     "name": "stdout",
     "output_type": "stream",
     "text": [
      "Completion for Text 2:\n",
      "No steps provided.\n"
     ]
    }
   ],
   "source": [
    "text_2 = f\"\"\"\n",
    "The sun is shining brightly today, and the birds are \\\n",
    "singing. It's a beautiful day to go for a \\ \n",
    "walk in the park. The flowers are blooming, and the \\ \n",
    "trees are swaying gently in the breeze. People \\ \n",
    "are out and about, enjoying the lovely weather. \\ \n",
    "Some are having picnics, while others are playing \\ \n",
    "games or simply relaxing on the grass. It's a \\ \n",
    "perfect day to spend time outdoors and appreciate the \\ \n",
    "beauty of nature.\n",
    "\"\"\"\n",
    "prompt = f\"\"\"\n",
    "You will be provided with text delimited by triple quotes. \n",
    "If it contains a sequence of instructions, \\ \n",
    "re-write those instructions in the following format:\n",
    "\n",
    "Step 1 - ...\n",
    "Step 2 - …\n",
    "…\n",
    "Step N - …\n",
    "\n",
    "If the text does not contain a sequence of instructions, \\ \n",
    "then simply write \\\"No steps provided.\\\"\n",
    "\n",
    "\\\"\\\"\\\"{text_2}\\\"\\\"\\\"\n",
    "\"\"\"\n",
    "response = get_completion(prompt)\n",
    "print(\"Completion for Text 2:\")\n",
    "print(response)\n"
   ]
  },
  {
   "cell_type": "markdown",
   "id": "cd30e79d",
   "metadata": {
    "papermill": {
     "duration": 0.006356,
     "end_time": "2024-03-29T20:40:35.181814",
     "exception": false,
     "start_time": "2024-03-29T20:40:35.175458",
     "status": "completed"
    },
    "tags": []
   },
   "source": [
    "- Few-shot prompting"
   ]
  },
  {
   "cell_type": "code",
   "execution_count": 9,
   "id": "a32d15fc",
   "metadata": {
    "execution": {
     "iopub.execute_input": "2024-03-29T20:40:35.196952Z",
     "iopub.status.busy": "2024-03-29T20:40:35.196526Z",
     "iopub.status.idle": "2024-03-29T20:40:36.340604Z",
     "shell.execute_reply": "2024-03-29T20:40:36.339543Z"
    },
    "papermill": {
     "duration": 1.154648,
     "end_time": "2024-03-29T20:40:36.343014",
     "exception": false,
     "start_time": "2024-03-29T20:40:35.188366",
     "status": "completed"
    },
    "tags": []
   },
   "outputs": [
    {
     "name": "stdout",
     "output_type": "stream",
     "text": [
      "<grandparent>: The tallest trees weather the strongest storms; the brightest stars shine in the darkest nights; the strongest hearts are forged in the hottest fires.\n"
     ]
    }
   ],
   "source": [
    "prompt = f\"\"\"\n",
    "Your task is to answer in a consistent style.\n",
    "\n",
    "<child>: Teach me about patience.\n",
    "\n",
    "<grandparent>: The river that carves the deepest \\ \n",
    "valley flows from a modest spring; the \\ \n",
    "grandest symphony originates from a single note; \\ \n",
    "the most intricate tapestry begins with a solitary thread.\n",
    "\n",
    "<child>: Teach me about resilience.\n",
    "\"\"\"\n",
    "response = get_completion(prompt)\n",
    "print(response)\n"
   ]
  },
  {
   "cell_type": "markdown",
   "id": "8c196d18",
   "metadata": {
    "papermill": {
     "duration": 0.006517,
     "end_time": "2024-03-29T20:40:36.356629",
     "exception": false,
     "start_time": "2024-03-29T20:40:36.350112",
     "status": "completed"
    },
    "tags": []
   },
   "source": [
    "- Specify steps required to complete a task (giving the model time to think)"
   ]
  },
  {
   "cell_type": "code",
   "execution_count": 10,
   "id": "0bfe142a",
   "metadata": {
    "execution": {
     "iopub.execute_input": "2024-03-29T20:40:36.371753Z",
     "iopub.status.busy": "2024-03-29T20:40:36.371337Z",
     "iopub.status.idle": "2024-03-29T20:40:38.902343Z",
     "shell.execute_reply": "2024-03-29T20:40:38.901159Z"
    },
    "papermill": {
     "duration": 2.54136,
     "end_time": "2024-03-29T20:40:38.904644",
     "exception": false,
     "start_time": "2024-03-29T20:40:36.363284",
     "status": "completed"
    },
    "tags": []
   },
   "outputs": [
    {
     "name": "stdout",
     "output_type": "stream",
     "text": [
      "Completion for prompt 1:\n",
      "1 - Jack and Jill, siblings, go on a quest to fetch water from a hilltop well, but encounter misfortune along the way.\n",
      "\n",
      "2 - Jack et Jill, frère et sœur, partent en quête d'eau d'un puits au sommet d'une colline, mais rencontrent des malheurs en chemin.\n",
      "\n",
      "3 - Jack, Jill\n",
      "\n",
      "4 - \n",
      "{\n",
      "  \"french_summary\": \"Jack et Jill, frère et sœur, partent en quête d'eau d'un puits au sommet d'une colline, mais rencontrent des malheurs en chemin.\",\n",
      "  \"num_names\": 2\n",
      "}\n"
     ]
    }
   ],
   "source": [
    "text = f\"\"\"\n",
    "In a charming village, siblings Jack and Jill set out on \\ \n",
    "a quest to fetch water from a hilltop \\ \n",
    "well. As they climbed, singing joyfully, misfortune \\ \n",
    "struck—Jack tripped on a stone and tumbled \\ \n",
    "down the hill, with Jill following suit. \\ \n",
    "Though slightly battered, the pair returned home to \\ \n",
    "comforting embraces. Despite the mishap, \\ \n",
    "their adventurous spirits remained undimmed, and they \\ \n",
    "continued exploring with delight.\n",
    "\"\"\"\n",
    "# example 1\n",
    "prompt_1 = f\"\"\"\n",
    "Perform the following actions: \n",
    "1 - Summarize the following text delimited by triple \\\n",
    "backticks with 1 sentence.\n",
    "2 - Translate the summary into French.\n",
    "3 - List each name in the French summary.\n",
    "4 - Output a json object that contains the following \\\n",
    "keys: french_summary, num_names.\n",
    "\n",
    "Separate your answers with line breaks.\n",
    "\n",
    "Text:\n",
    "```{text}```\n",
    "\"\"\"\n",
    "response = get_completion(prompt_1)\n",
    "print(\"Completion for prompt 1:\")\n",
    "print(response)"
   ]
  },
  {
   "cell_type": "code",
   "execution_count": 11,
   "id": "567b9009",
   "metadata": {
    "execution": {
     "iopub.execute_input": "2024-03-29T20:40:38.921095Z",
     "iopub.status.busy": "2024-03-29T20:40:38.920671Z",
     "iopub.status.idle": "2024-03-29T20:40:41.899032Z",
     "shell.execute_reply": "2024-03-29T20:40:41.897617Z"
    },
    "papermill": {
     "duration": 2.989865,
     "end_time": "2024-03-29T20:40:41.901679",
     "exception": false,
     "start_time": "2024-03-29T20:40:38.911814",
     "status": "completed"
    },
    "tags": []
   },
   "outputs": [
    {
     "name": "stdout",
     "output_type": "stream",
     "text": [
      "\n",
      "Completion for prompt 2:\n",
      "Summary: Jack and Jill, siblings, go on a quest to fetch water but face misfortune on the way back.\n",
      "\n",
      "Translation: Jack et Jill, frère et sœur, partent en quête d'eau mais rencontrent des malheurs sur le chemin.\n",
      "\n",
      "Names: Jack, Jill\n",
      "\n",
      "Output JSON: \n",
      "{\n",
      "  \"french_summary\": \"Jack et Jill, frère et sœur, partent en quête d'eau mais rencontrent des malheurs sur le chemin.\",\n",
      "  \"num_names\": 2\n",
      "}\n"
     ]
    }
   ],
   "source": [
    "# Ask for output in JSON format\n",
    "prompt_2 = f\"\"\"\n",
    "Your task is to perform the following actions: \n",
    "1 - Summarize the following text delimited by \n",
    "  <> with 1 sentence.\n",
    "2 - Translate the summary into French.\n",
    "3 - List each name in the French summary.\n",
    "4 - Output a json object that contains the \n",
    "  following keys: french_summary, num_names.\n",
    "\n",
    "Use the following format:\n",
    "Text: <text to summarize>\n",
    "Summary: <summary>\n",
    "Translation: <summary translation>\n",
    "Names: <list of names in summary>\n",
    "Output JSON: <json with summary and num_names>\n",
    "\n",
    "Text: <{text}>\n",
    "\"\"\"\n",
    "response = get_completion(prompt_2)\n",
    "print(\"\\nCompletion for prompt 2:\")\n",
    "print(response)"
   ]
  },
  {
   "cell_type": "markdown",
   "id": "d152d4e4",
   "metadata": {
    "papermill": {
     "duration": 0.006848,
     "end_time": "2024-03-29T20:40:41.916004",
     "exception": false,
     "start_time": "2024-03-29T20:40:41.909156",
     "status": "completed"
    },
    "tags": []
   },
   "source": [
    "- Instruct model to work out its own solution before rushing to a conclusion"
   ]
  },
  {
   "cell_type": "code",
   "execution_count": 12,
   "id": "67e77b55",
   "metadata": {
    "execution": {
     "iopub.execute_input": "2024-03-29T20:40:41.931964Z",
     "iopub.status.busy": "2024-03-29T20:40:41.931290Z",
     "iopub.status.idle": "2024-03-29T20:40:43.125619Z",
     "shell.execute_reply": "2024-03-29T20:40:43.124019Z"
    },
    "papermill": {
     "duration": 1.205137,
     "end_time": "2024-03-29T20:40:43.128167",
     "exception": false,
     "start_time": "2024-03-29T20:40:41.923030",
     "status": "completed"
    },
    "tags": []
   },
   "outputs": [
    {
     "name": "stdout",
     "output_type": "stream",
     "text": [
      "The student's solution is correct. The total cost for the first year of operations as a function of the number of square feet is indeed 450x + 100,000.\n"
     ]
    }
   ],
   "source": [
    "prompt = f\"\"\"\n",
    "Determine if the student's solution is correct or not.\n",
    "\n",
    "Question:\n",
    "I'm building a solar power installation and I need \\\n",
    " help working out the financials. \n",
    "- Land costs $100 / square foot\n",
    "- I can buy solar panels for $250 / square foot\n",
    "- I negotiated a contract for maintenance that will cost \\ \n",
    "me a flat $100k per year, and an additional $10 / square \\\n",
    "foot\n",
    "What is the total cost for the first year of operations \n",
    "as a function of the number of square feet.\n",
    "\n",
    "Student's Solution:\n",
    "Let x be the size of the installation in square feet.\n",
    "Costs:\n",
    "1. Land cost: 100x\n",
    "2. Solar panel cost: 250x\n",
    "3. Maintenance cost: 100,000 + 100x\n",
    "Total cost: 100x + 250x + 100,000 + 100x = 450x + 100,000\n",
    "\"\"\"\n",
    "response = get_completion(prompt)\n",
    "print(response)"
   ]
  },
  {
   "cell_type": "code",
   "execution_count": 13,
   "id": "f4ad4383",
   "metadata": {
    "execution": {
     "iopub.execute_input": "2024-03-29T20:40:43.144753Z",
     "iopub.status.busy": "2024-03-29T20:40:43.143971Z",
     "iopub.status.idle": "2024-03-29T20:40:45.837971Z",
     "shell.execute_reply": "2024-03-29T20:40:45.836862Z"
    },
    "papermill": {
     "duration": 2.705057,
     "end_time": "2024-03-29T20:40:45.840413",
     "exception": false,
     "start_time": "2024-03-29T20:40:43.135356",
     "status": "completed"
    },
    "tags": []
   },
   "outputs": [
    {
     "name": "stdout",
     "output_type": "stream",
     "text": [
      "The total cost for the first year of operations is calculated as follows:\n",
      "- Land cost: $100/sq ft * x sq ft = $100x\n",
      "- Solar panel cost: $250/sq ft * x sq ft = $250x\n",
      "- Maintenance cost: $100,000 + $10/sq ft * x sq ft = $100,000 + $10x\n",
      "\n",
      "Total cost: $100x + $250x + $100,000 + $10x = $360x + $100,000\n",
      "\n",
      "Therefore, the total cost for the first year of operations as a function of the number of square feet is $360x + $100,000.\n",
      "\n",
      "Is the student's solution the same as the actual solution just calculated:\n",
      "```\n",
      "No\n",
      "```\n",
      "Student grade:\n",
      "```\n",
      "incorrect\n",
      "```\n"
     ]
    }
   ],
   "source": [
    "prompt = f\"\"\"\n",
    "Your task is to determine if the student's solution \\\n",
    "is correct or not.\n",
    "To solve the problem do the following:\n",
    "- First, work out your own solution to the problem including the final total. \n",
    "- Then compare your solution to the student's solution \\ \n",
    "and evaluate if the student's solution is correct or not. \n",
    "Don't decide if the student's solution is correct until \n",
    "you have done the problem yourself.\n",
    "\n",
    "Use the following format:\n",
    "Question:\n",
    "```\n",
    "question here\n",
    "```\n",
    "Student's solution:\n",
    "```\n",
    "student's solution here\n",
    "```\n",
    "Actual solution:\n",
    "```\n",
    "steps to work out the solution and your solution here\n",
    "```\n",
    "Is the student's solution the same as actual solution \\\n",
    "just calculated:\n",
    "```\n",
    "yes or no\n",
    "```\n",
    "Student grade:\n",
    "```\n",
    "correct or incorrect\n",
    "```\n",
    "\n",
    "Question:\n",
    "```\n",
    "I'm building a solar power installation and I need help \\\n",
    "working out the financials. \n",
    "- Land costs $100 / square foot\n",
    "- I can buy solar panels for $250 / square foot\n",
    "- I negotiated a contract for maintenance that will cost \\\n",
    "me a flat $100k per year, and an additional $10 / square \\\n",
    "foot\n",
    "What is the total cost for the first year of operations \\\n",
    "as a function of the number of square feet.\n",
    "``` \n",
    "Student's solution:\n",
    "```\n",
    "Let x be the size of the installation in square feet.\n",
    "Costs:\n",
    "1. Land cost: 100x\n",
    "2. Solar panel cost: 250x\n",
    "3. Maintenance cost: 100,000 + 100x\n",
    "Total cost: 100x + 250x + 100,000 + 100x = 450x + 100,000\n",
    "```\n",
    "Actual solution:\n",
    "\"\"\"\n",
    "response = get_completion(prompt)\n",
    "print(response)"
   ]
  },
  {
   "cell_type": "markdown",
   "id": "49d563dc",
   "metadata": {
    "papermill": {
     "duration": 0.006833,
     "end_time": "2024-03-29T20:40:45.854493",
     "exception": false,
     "start_time": "2024-03-29T20:40:45.847660",
     "status": "completed"
    },
    "tags": []
   },
   "source": [
    "- Limit model hallucinations"
   ]
  },
  {
   "cell_type": "code",
   "execution_count": 14,
   "id": "7c21f8ae",
   "metadata": {
    "execution": {
     "iopub.execute_input": "2024-03-29T20:40:45.870328Z",
     "iopub.status.busy": "2024-03-29T20:40:45.869959Z",
     "iopub.status.idle": "2024-03-29T20:40:48.015281Z",
     "shell.execute_reply": "2024-03-29T20:40:48.014261Z"
    },
    "papermill": {
     "duration": 2.156204,
     "end_time": "2024-03-29T20:40:48.017656",
     "exception": false,
     "start_time": "2024-03-29T20:40:45.861452",
     "status": "completed"
    },
    "tags": []
   },
   "outputs": [
    {
     "name": "stdout",
     "output_type": "stream",
     "text": [
      "The AeroGlide UltraSlim Smart Toothbrush by Boie is a high-tech toothbrush designed to provide a superior cleaning experience. It features a sleek and slim design that makes it easy to hold and maneuver in the mouth. The toothbrush is equipped with smart technology that tracks your brushing habits and provides real-time feedback to help you improve your oral hygiene routine.\n",
      "\n",
      "The bristles of the AeroGlide UltraSlim Smart Toothbrush are made from a durable and hygienic material called TPE, which is gentle on the gums and teeth. The toothbrush also has a built-in timer and pressure sensor to ensure that you are brushing for the recommended two minutes and applying the right amount of pressure.\n",
      "\n",
      "Overall, the AeroGlide UltraSlim Smart Toothbrush by Boie is a cutting-edge dental tool that combines style and functionality to help you achieve a healthier smile.\n"
     ]
    }
   ],
   "source": [
    "prompt = f\"\"\"\n",
    "Tell me about AeroGlide UltraSlim Smart Toothbrush by Boie\n",
    "\"\"\"\n",
    "response = get_completion(prompt)\n",
    "print(response)"
   ]
  },
  {
   "cell_type": "code",
   "execution_count": 15,
   "id": "fc33ee3b",
   "metadata": {
    "execution": {
     "iopub.execute_input": "2024-03-29T20:40:48.034191Z",
     "iopub.status.busy": "2024-03-29T20:40:48.033501Z",
     "iopub.status.idle": "2024-03-29T20:40:49.109941Z",
     "shell.execute_reply": "2024-03-29T20:40:49.108664Z"
    },
    "papermill": {
     "duration": 1.087511,
     "end_time": "2024-03-29T20:40:49.112561",
     "exception": false,
     "start_time": "2024-03-29T20:40:48.025050",
     "status": "completed"
    },
    "tags": []
   },
   "outputs": [
    {
     "name": "stdout",
     "output_type": "stream",
     "text": [
      "I'm sorry, but I couldn't find any information about an AeroGlide UltraSlim Smart Toothbrush by Boie.\n"
     ]
    }
   ],
   "source": [
    "# Modified prompt to limit hallucinations\n",
    "text = f\"\"\"\n",
    "Tell me about AeroGlide UltraSlim Smart Toothbrush by Boie\n",
    "\"\"\"\n",
    "\n",
    "prompt = f\"\"\"\n",
    "Answer the question in the text in angular brackets by first finding relevant information and using this to answer the question.\\\n",
    "If no relevant information is found, respond truthfully by saying so.\n",
    "<{text}>\n",
    "\"\"\"\n",
    "\n",
    "response = get_completion(prompt)\n",
    "print(response)"
   ]
  }
 ],
 "metadata": {
  "kaggle": {
   "accelerator": "none",
   "dataSources": [],
   "dockerImageVersionId": 30673,
   "isGpuEnabled": false,
   "isInternetEnabled": true,
   "language": "python",
   "sourceType": "notebook"
  },
  "kernelspec": {
   "display_name": "Python 3",
   "language": "python",
   "name": "python3"
  },
  "language_info": {
   "codemirror_mode": {
    "name": "ipython",
    "version": 3
   },
   "file_extension": ".py",
   "mimetype": "text/x-python",
   "name": "python",
   "nbconvert_exporter": "python",
   "pygments_lexer": "ipython3",
   "version": "3.10.13"
  },
  "papermill": {
   "default_parameters": {},
   "duration": 42.591488,
   "end_time": "2024-03-29T20:40:50.042970",
   "environment_variables": {},
   "exception": null,
   "input_path": "__notebook__.ipynb",
   "output_path": "__notebook__.ipynb",
   "parameters": {},
   "start_time": "2024-03-29T20:40:07.451482",
   "version": "2.5.0"
  }
 },
 "nbformat": 4,
 "nbformat_minor": 5
}
