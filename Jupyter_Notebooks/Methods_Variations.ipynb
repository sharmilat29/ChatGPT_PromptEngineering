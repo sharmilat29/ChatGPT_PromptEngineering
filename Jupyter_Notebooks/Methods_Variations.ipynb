{
 "cells": [
  {
   "cell_type": "code",
   "execution_count": 1,
   "id": "f7936b67",
   "metadata": {
    "_cell_guid": "b1076dfc-b9ad-4769-8c92-a6c4dae69d19",
    "_uuid": "8f2839f25d086af736a60e9eeb907d3b93b6e0e5",
    "execution": {
     "iopub.execute_input": "2024-03-29T22:39:06.520834Z",
     "iopub.status.busy": "2024-03-29T22:39:06.520049Z",
     "iopub.status.idle": "2024-03-29T22:39:07.418114Z",
     "shell.execute_reply": "2024-03-29T22:39:07.417089Z"
    },
    "papermill": {
     "duration": 0.919461,
     "end_time": "2024-03-29T22:39:07.420752",
     "exception": false,
     "start_time": "2024-03-29T22:39:06.501291",
     "status": "completed"
    },
    "tags": []
   },
   "outputs": [],
   "source": [
    "# This Python 3 environment comes with many helpful analytics libraries installed\n",
    "# It is defined by the kaggle/python Docker image: https://github.com/kaggle/docker-python\n",
    "# For example, here's several helpful packages to load\n",
    "\n",
    "import numpy as np # linear algebra\n",
    "import pandas as pd # data processing, CSV file I/O (e.g. pd.read_csv)\n",
    "\n",
    "# Input data files are available in the read-only \"../input/\" directory\n",
    "# For example, running this (by clicking run or pressing Shift+Enter) will list all files under the input directory\n",
    "\n",
    "import os\n",
    "for dirname, _, filenames in os.walk('/kaggle/input'):\n",
    "    for filename in filenames:\n",
    "        print(os.path.join(dirname, filename))\n",
    "\n",
    "# You can write up to 20GB to the current directory (/kaggle/working/) that gets preserved as output when you create a version using \"Save & Run All\" \n",
    "# You can also write temporary files to /kaggle/temp/, but they won't be saved outside of the current session"
   ]
  },
  {
   "cell_type": "code",
   "execution_count": 2,
   "id": "68fa62d2",
   "metadata": {
    "execution": {
     "iopub.execute_input": "2024-03-29T22:39:07.455182Z",
     "iopub.status.busy": "2024-03-29T22:39:07.454682Z",
     "iopub.status.idle": "2024-03-29T22:39:23.831556Z",
     "shell.execute_reply": "2024-03-29T22:39:23.830136Z"
    },
    "papermill": {
     "duration": 16.397379,
     "end_time": "2024-03-29T22:39:23.834513",
     "exception": false,
     "start_time": "2024-03-29T22:39:07.437134",
     "status": "completed"
    },
    "tags": []
   },
   "outputs": [
    {
     "name": "stdout",
     "output_type": "stream",
     "text": [
      "Collecting openai\r\n",
      "  Downloading openai-1.14.3-py3-none-any.whl.metadata (20 kB)\r\n",
      "Requirement already satisfied: anyio<5,>=3.5.0 in /opt/conda/lib/python3.10/site-packages (from openai) (4.2.0)\r\n",
      "Requirement already satisfied: distro<2,>=1.7.0 in /opt/conda/lib/python3.10/site-packages (from openai) (1.9.0)\r\n",
      "Requirement already satisfied: httpx<1,>=0.23.0 in /opt/conda/lib/python3.10/site-packages (from openai) (0.27.0)\r\n",
      "Requirement already satisfied: pydantic<3,>=1.9.0 in /opt/conda/lib/python3.10/site-packages (from openai) (2.5.3)\r\n",
      "Requirement already satisfied: sniffio in /opt/conda/lib/python3.10/site-packages (from openai) (1.3.0)\r\n",
      "Requirement already satisfied: tqdm>4 in /opt/conda/lib/python3.10/site-packages (from openai) (4.66.1)\r\n",
      "Requirement already satisfied: typing-extensions<5,>=4.7 in /opt/conda/lib/python3.10/site-packages (from openai) (4.9.0)\r\n",
      "Requirement already satisfied: idna>=2.8 in /opt/conda/lib/python3.10/site-packages (from anyio<5,>=3.5.0->openai) (3.6)\r\n",
      "Requirement already satisfied: exceptiongroup>=1.0.2 in /opt/conda/lib/python3.10/site-packages (from anyio<5,>=3.5.0->openai) (1.2.0)\r\n",
      "Requirement already satisfied: certifi in /opt/conda/lib/python3.10/site-packages (from httpx<1,>=0.23.0->openai) (2024.2.2)\r\n",
      "Requirement already satisfied: httpcore==1.* in /opt/conda/lib/python3.10/site-packages (from httpx<1,>=0.23.0->openai) (1.0.4)\r\n",
      "Requirement already satisfied: h11<0.15,>=0.13 in /opt/conda/lib/python3.10/site-packages (from httpcore==1.*->httpx<1,>=0.23.0->openai) (0.14.0)\r\n",
      "Requirement already satisfied: annotated-types>=0.4.0 in /opt/conda/lib/python3.10/site-packages (from pydantic<3,>=1.9.0->openai) (0.6.0)\r\n",
      "Requirement already satisfied: pydantic-core==2.14.6 in /opt/conda/lib/python3.10/site-packages (from pydantic<3,>=1.9.0->openai) (2.14.6)\r\n",
      "Downloading openai-1.14.3-py3-none-any.whl (262 kB)\r\n",
      "\u001b[2K   \u001b[90m━━━━━━━━━━━━━━━━━━━━━━━━━━━━━━━━━━━━━━━━\u001b[0m \u001b[32m262.9/262.9 kB\u001b[0m \u001b[31m4.6 MB/s\u001b[0m eta \u001b[36m0:00:00\u001b[0m\r\n",
      "\u001b[?25hInstalling collected packages: openai\r\n",
      "Successfully installed openai-1.14.3\r\n",
      "Note: you may need to restart the kernel to use updated packages.\n"
     ]
    }
   ],
   "source": [
    "pip install openai"
   ]
  },
  {
   "cell_type": "code",
   "execution_count": 3,
   "id": "f0f310d6",
   "metadata": {
    "execution": {
     "iopub.execute_input": "2024-03-29T22:39:23.871285Z",
     "iopub.status.busy": "2024-03-29T22:39:23.870833Z",
     "iopub.status.idle": "2024-03-29T22:39:25.351092Z",
     "shell.execute_reply": "2024-03-29T22:39:25.349839Z"
    },
    "papermill": {
     "duration": 1.501613,
     "end_time": "2024-03-29T22:39:25.353610",
     "exception": false,
     "start_time": "2024-03-29T22:39:23.851997",
     "status": "completed"
    },
    "tags": []
   },
   "outputs": [],
   "source": [
    "import openai\n",
    "import os\n",
    "\n",
    "from kaggle_secrets import UserSecretsClient\n",
    "user_secrets = UserSecretsClient()\n",
    "\n",
    "openai.api_key = user_secrets.get_secret(\"OPENAI_API_KEY\")"
   ]
  },
  {
   "cell_type": "code",
   "execution_count": 4,
   "id": "5d6cb694",
   "metadata": {
    "execution": {
     "iopub.execute_input": "2024-03-29T22:39:25.394688Z",
     "iopub.status.busy": "2024-03-29T22:39:25.393961Z",
     "iopub.status.idle": "2024-03-29T22:39:25.400333Z",
     "shell.execute_reply": "2024-03-29T22:39:25.399216Z"
    },
    "papermill": {
     "duration": 0.031593,
     "end_time": "2024-03-29T22:39:25.402748",
     "exception": false,
     "start_time": "2024-03-29T22:39:25.371155",
     "status": "completed"
    },
    "tags": []
   },
   "outputs": [],
   "source": [
    "# Defining a chat completion helper function\n",
    "\n",
    "def get_completion(prompt, model = \"gpt-3.5-turbo\", temperature = 0):\n",
    "    messages = [{\"role\": \"user\", \"content\": prompt}]\n",
    "    response = openai.chat.completions.create(\n",
    "        model = model,\n",
    "        messages = messages,\n",
    "        temperature = 0,\n",
    "    )\n",
    "    return response.choices[0].message.content"
   ]
  },
  {
   "cell_type": "markdown",
   "id": "2230d818",
   "metadata": {
    "papermill": {
     "duration": 0.016957,
     "end_time": "2024-03-29T22:39:25.437096",
     "exception": false,
     "start_time": "2024-03-29T22:39:25.420139",
     "status": "completed"
    },
    "tags": []
   },
   "source": [
    "### Uses and Techniques"
   ]
  },
  {
   "cell_type": "markdown",
   "id": "2d500f10",
   "metadata": {
    "papermill": {
     "duration": 0.017008,
     "end_time": "2024-03-29T22:39:25.471592",
     "exception": false,
     "start_time": "2024-03-29T22:39:25.454584",
     "status": "completed"
    },
    "tags": []
   },
   "source": [
    "### Iterative prompt engineering"
   ]
  },
  {
   "cell_type": "markdown",
   "id": "25defe69",
   "metadata": {
    "papermill": {
     "duration": 0.017429,
     "end_time": "2024-03-29T22:39:25.506202",
     "exception": false,
     "start_time": "2024-03-29T22:39:25.488773",
     "status": "completed"
    },
    "tags": []
   },
   "source": [
    "#### - Generate product description from product fact sheet"
   ]
  },
  {
   "cell_type": "code",
   "execution_count": 5,
   "id": "34f096f3",
   "metadata": {
    "execution": {
     "iopub.execute_input": "2024-03-29T22:39:25.548243Z",
     "iopub.status.busy": "2024-03-29T22:39:25.547742Z",
     "iopub.status.idle": "2024-03-29T22:39:25.555219Z",
     "shell.execute_reply": "2024-03-29T22:39:25.554190Z"
    },
    "papermill": {
     "duration": 0.033519,
     "end_time": "2024-03-29T22:39:25.557325",
     "exception": false,
     "start_time": "2024-03-29T22:39:25.523806",
     "status": "completed"
    },
    "tags": []
   },
   "outputs": [],
   "source": [
    "fact_sheet_chair = \"\"\"\n",
    "OVERVIEW\n",
    "- Part of a beautiful family of mid-century inspired office furniture, \n",
    "including filing cabinets, desks, bookcases, meeting tables, and more.\n",
    "- Several options of shell color and base finishes.\n",
    "- Available with plastic back and front upholstery (SWC-100) \n",
    "or full upholstery (SWC-110) in 10 fabric and 6 leather options.\n",
    "- Base finish options are: stainless steel, matte black, \n",
    "gloss white, or chrome.\n",
    "- Chair is available with or without armrests.\n",
    "- Suitable for home or business settings.\n",
    "- Qualified for contract use.\n",
    "\n",
    "CONSTRUCTION\n",
    "- 5-wheel plastic coated aluminum base.\n",
    "- Pneumatic chair adjust for easy raise/lower action.\n",
    "\n",
    "DIMENSIONS\n",
    "- WIDTH 53 CM | 20.87”\n",
    "- DEPTH 51 CM | 20.08”\n",
    "- HEIGHT 80 CM | 31.50”\n",
    "- SEAT HEIGHT 44 CM | 17.32”\n",
    "- SEAT DEPTH 41 CM | 16.14”\n",
    "\n",
    "OPTIONS\n",
    "- Soft or hard-floor caster options.\n",
    "- Two choices of seat foam densities: \n",
    " medium (1.8 lb/ft3) or high (2.8 lb/ft3)\n",
    "- Armless or 8 position PU armrests \n",
    "\n",
    "MATERIALS\n",
    "SHELL BASE GLIDER\n",
    "- Cast Aluminum with modified nylon PA6/PA66 coating.\n",
    "- Shell thickness: 10 mm.\n",
    "SEAT\n",
    "- HD36 foam\n",
    "\n",
    "COUNTRY OF ORIGIN\n",
    "- Italy\n",
    "\"\"\""
   ]
  },
  {
   "cell_type": "code",
   "execution_count": 6,
   "id": "c9527460",
   "metadata": {
    "execution": {
     "iopub.execute_input": "2024-03-29T22:39:25.595330Z",
     "iopub.status.busy": "2024-03-29T22:39:25.594405Z",
     "iopub.status.idle": "2024-03-29T22:39:29.418932Z",
     "shell.execute_reply": "2024-03-29T22:39:29.417676Z"
    },
    "papermill": {
     "duration": 3.846444,
     "end_time": "2024-03-29T22:39:29.421734",
     "exception": false,
     "start_time": "2024-03-29T22:39:25.575290",
     "status": "completed"
    },
    "tags": []
   },
   "outputs": [
    {
     "name": "stdout",
     "output_type": "stream",
     "text": [
      "Introducing our versatile and stylish mid-century inspired office chair, perfect for both home and business settings. This chair is part of a beautiful family of office furniture that includes filing cabinets, desks, bookcases, meeting tables, and more.\n",
      "\n",
      "Customize your chair with several options of shell color and base finishes, as well as the choice between plastic back and front upholstery or full upholstery in a variety of fabric and leather options. The base finish options include stainless steel, matte black, gloss white, or chrome, and you can choose to have the chair with or without armrests.\n",
      "\n",
      "Constructed with a 5-wheel plastic coated aluminum base and featuring a pneumatic chair adjust for easy raise/lower action, this chair is both functional and comfortable. The dimensions of the chair are as follows: width 53 cm, depth 51 cm, height 80 cm, seat height 44 cm, and seat depth 41 cm.\n",
      "\n",
      "Choose between soft or hard-floor caster options, two seat foam densities (medium or high), and armless or 8 position PU armrests to customize your chair to your liking. The materials used in the construction of this chair include cast aluminum with modified nylon PA6/PA66 coating for the shell base glider and HD36 foam for the seat.\n",
      "\n",
      "Made in Italy, this chair is not only stylish and comfortable but also durable and suitable for contract use. Upgrade your office space with our mid-century inspired office chair today!\n"
     ]
    }
   ],
   "source": [
    "prompt = f\"\"\"\n",
    "Your task is to help a marketing team create a \n",
    "description for a retail website of a product based \n",
    "on a technical fact sheet.\n",
    "\n",
    "Write a product description based on the information \n",
    "provided in the technical specifications delimited by \n",
    "triple backticks.\n",
    "\n",
    "Technical specifications: ```{fact_sheet_chair}```\n",
    "\"\"\"\n",
    "response = get_completion(prompt)\n",
    "print(response)\n"
   ]
  },
  {
   "cell_type": "markdown",
   "id": "84a5d5ad",
   "metadata": {
    "papermill": {
     "duration": 0.017394,
     "end_time": "2024-03-29T22:39:29.457454",
     "exception": false,
     "start_time": "2024-03-29T22:39:29.440060",
     "status": "completed"
    },
    "tags": []
   },
   "source": [
    "#### - Limit number of words/sentences/characters"
   ]
  },
  {
   "cell_type": "code",
   "execution_count": 7,
   "id": "7e387d6b",
   "metadata": {
    "execution": {
     "iopub.execute_input": "2024-03-29T22:39:29.494154Z",
     "iopub.status.busy": "2024-03-29T22:39:29.493710Z",
     "iopub.status.idle": "2024-03-29T22:39:33.109246Z",
     "shell.execute_reply": "2024-03-29T22:39:33.108204Z"
    },
    "papermill": {
     "duration": 3.636979,
     "end_time": "2024-03-29T22:39:33.111792",
     "exception": false,
     "start_time": "2024-03-29T22:39:29.474813",
     "status": "completed"
    },
    "tags": []
   },
   "outputs": [
    {
     "name": "stdout",
     "output_type": "stream",
     "text": [
      "Introducing our versatile and stylish mid-century office chair, available in a range of colors and finishes to suit any space. With adjustable height and comfortable foam seat options, this chair is perfect for both home and business use. Made in Italy with quality materials for durability. Elevate your workspace today!\n"
     ]
    }
   ],
   "source": [
    "prompt = f\"\"\"\n",
    "Your task is to help a marketing team create a \n",
    "description for a retail website of a product based \n",
    "on a technical fact sheet.\n",
    "\n",
    "Write a product description based on the information \n",
    "provided in the technical specifications delimited by \n",
    "triple backticks.\n",
    "\n",
    "Use at most 50 words.\n",
    "\n",
    "Technical specifications: ```{fact_sheet_chair}```\n",
    "\"\"\"\n",
    "response = get_completion(prompt)\n",
    "print(response)\n"
   ]
  },
  {
   "cell_type": "code",
   "execution_count": 8,
   "id": "69211b58",
   "metadata": {
    "execution": {
     "iopub.execute_input": "2024-03-29T22:39:33.149863Z",
     "iopub.status.busy": "2024-03-29T22:39:33.148729Z",
     "iopub.status.idle": "2024-03-29T22:39:33.994991Z",
     "shell.execute_reply": "2024-03-29T22:39:33.993927Z"
    },
    "papermill": {
     "duration": 0.868179,
     "end_time": "2024-03-29T22:39:33.997955",
     "exception": false,
     "start_time": "2024-03-29T22:39:33.129776",
     "status": "completed"
    },
    "tags": []
   },
   "outputs": [
    {
     "name": "stdout",
     "output_type": "stream",
     "text": [
      "Introducing our versatile and stylish office chair from Italy. Choose from a variety of colors, finishes, and upholstery options to suit your space. With adjustable height and comfortable seating, this chair is perfect for both home and business use.\n"
     ]
    }
   ],
   "source": [
    "prompt = f\"\"\"\n",
    "Your task is to help a marketing team create a \n",
    "description for a retail website of a product based \n",
    "on a technical fact sheet.\n",
    "\n",
    "Write a product description based on the information \n",
    "provided in the technical specifications delimited by \n",
    "triple backticks.\n",
    "\n",
    "Use at most 300 characters.\n",
    "\n",
    "Technical specifications: ```{fact_sheet_chair}```\n",
    "\"\"\"\n",
    "response = get_completion(prompt)\n",
    "print(response)\n"
   ]
  },
  {
   "cell_type": "code",
   "execution_count": 9,
   "id": "95d16330",
   "metadata": {
    "execution": {
     "iopub.execute_input": "2024-03-29T22:39:34.037091Z",
     "iopub.status.busy": "2024-03-29T22:39:34.035920Z",
     "iopub.status.idle": "2024-03-29T22:39:37.943305Z",
     "shell.execute_reply": "2024-03-29T22:39:37.941821Z"
    },
    "papermill": {
     "duration": 3.930238,
     "end_time": "2024-03-29T22:39:37.946049",
     "exception": false,
     "start_time": "2024-03-29T22:39:34.015811",
     "status": "completed"
    },
    "tags": []
   },
   "outputs": [
    {
     "name": "stdout",
     "output_type": "stream",
     "text": [
      "Introducing our versatile and stylish mid-century inspired office chair, perfect for both home and business settings. With a range of shell colors, base finishes, and upholstery options, you can customize it to suit your taste. The chair features a durable 5-wheel plastic coated aluminum base and pneumatic adjust for easy height changes. Made in Italy with high-quality materials, this chair is not only aesthetically pleasing but also built to last. Upgrade your workspace with this modern and functional piece that is qualified for contract use.\n"
     ]
    }
   ],
   "source": [
    "prompt = f\"\"\"\n",
    "Your task is to help a marketing team create a \n",
    "description for a retail website of a product based \n",
    "on a technical fact sheet.\n",
    "\n",
    "Write a product description based on the information \n",
    "provided in the technical specifications delimited by \n",
    "triple backticks.\n",
    "\n",
    "Use at most 5 sentences.\n",
    "\n",
    "Technical specifications: ```{fact_sheet_chair}```\n",
    "\"\"\"\n",
    "response = get_completion(prompt)\n",
    "print(response)\n"
   ]
  },
  {
   "cell_type": "markdown",
   "id": "79275523",
   "metadata": {
    "papermill": {
     "duration": 0.017701,
     "end_time": "2024-03-29T22:39:37.981474",
     "exception": false,
     "start_time": "2024-03-29T22:39:37.963773",
     "status": "completed"
    },
    "tags": []
   },
   "source": [
    "#### - Focus on aspects relevent to intended audience"
   ]
  },
  {
   "cell_type": "code",
   "execution_count": 10,
   "id": "cefd4751",
   "metadata": {
    "execution": {
     "iopub.execute_input": "2024-03-29T22:39:38.019266Z",
     "iopub.status.busy": "2024-03-29T22:39:38.018847Z",
     "iopub.status.idle": "2024-03-29T22:39:39.163779Z",
     "shell.execute_reply": "2024-03-29T22:39:39.162655Z"
    },
    "papermill": {
     "duration": 1.167155,
     "end_time": "2024-03-29T22:39:39.166395",
     "exception": false,
     "start_time": "2024-03-29T22:39:37.999240",
     "status": "completed"
    },
    "tags": []
   },
   "outputs": [
    {
     "name": "stdout",
     "output_type": "stream",
     "text": [
      "Introducing our versatile and stylish office chair, part of a mid-century inspired collection. Choose from a variety of shell colors and base finishes to suit your space. Constructed with a durable aluminum base and comfortable HD36 foam seat. Perfect for home or business use. Product IDs: SWC-100, SWC-110.\n"
     ]
    }
   ],
   "source": [
    "prompt = f\"\"\"\n",
    "Your task is to help a marketing team create a \n",
    "description for a retail website of a product based \n",
    "on a technical fact sheet.\n",
    "\n",
    "Write a product description based on the information \n",
    "provided in the technical specifications delimited by \n",
    "triple backticks.\n",
    "\n",
    "The description is intended for furniture retailers, \n",
    "so should be technical in nature and focus on the \n",
    "materials the product is constructed from.\n",
    "\n",
    "At the end of the description, include every 7-character \n",
    "Product ID in the technical specification.\n",
    "\n",
    "Use at most 50 words.\n",
    "\n",
    "Technical specifications: ```{fact_sheet_chair}```\n",
    "\"\"\"\n",
    "response = get_completion(prompt)\n",
    "print(response)"
   ]
  },
  {
   "cell_type": "markdown",
   "id": "c24a3a42",
   "metadata": {
    "papermill": {
     "duration": 0.017597,
     "end_time": "2024-03-29T22:39:39.203212",
     "exception": false,
     "start_time": "2024-03-29T22:39:39.185615",
     "status": "completed"
    },
    "tags": []
   },
   "source": [
    "### 2. Summarizing"
   ]
  },
  {
   "cell_type": "code",
   "execution_count": 11,
   "id": "6b18cc23",
   "metadata": {
    "execution": {
     "iopub.execute_input": "2024-03-29T22:39:39.240571Z",
     "iopub.status.busy": "2024-03-29T22:39:39.240212Z",
     "iopub.status.idle": "2024-03-29T22:39:39.245205Z",
     "shell.execute_reply": "2024-03-29T22:39:39.243846Z"
    },
    "papermill": {
     "duration": 0.026499,
     "end_time": "2024-03-29T22:39:39.247588",
     "exception": false,
     "start_time": "2024-03-29T22:39:39.221089",
     "status": "completed"
    },
    "tags": []
   },
   "outputs": [],
   "source": [
    "prod_review = \"\"\"\n",
    "Got this panda plush toy for my daughter's birthday, \\\n",
    "who loves it and takes it everywhere. It's soft and \\ \n",
    "super cute, and its face has a friendly look. It's \\ \n",
    "a bit small for what I paid though. I think there \\ \n",
    "might be other options that are bigger for the \\ \n",
    "same price. It arrived a day earlier than expected, \\ \n",
    "so I got to play with it myself before I gave it \\ \n",
    "to her.\n",
    "\"\"\""
   ]
  },
  {
   "cell_type": "code",
   "execution_count": 12,
   "id": "0976a968",
   "metadata": {
    "execution": {
     "iopub.execute_input": "2024-03-29T22:39:39.284973Z",
     "iopub.status.busy": "2024-03-29T22:39:39.284277Z",
     "iopub.status.idle": "2024-03-29T22:39:40.474344Z",
     "shell.execute_reply": "2024-03-29T22:39:40.473271Z"
    },
    "papermill": {
     "duration": 1.21175,
     "end_time": "2024-03-29T22:39:40.477063",
     "exception": false,
     "start_time": "2024-03-29T22:39:39.265313",
     "status": "completed"
    },
    "tags": []
   },
   "outputs": [
    {
     "name": "stdout",
     "output_type": "stream",
     "text": [
      "```\n",
      "Cute panda plush toy loved by daughter, soft and friendly-looking. Smaller than expected for the price, but arrived early.\n",
      "```\n"
     ]
    }
   ],
   "source": [
    "prompt = f\"\"\"\n",
    "Your task is to generate a short summary of a product \\\n",
    "review from an ecommerce site. \n",
    "\n",
    "Summarize the review below, delimited by triple \n",
    "backticks, in at most 30 words. \n",
    "\n",
    "Review: ```{prod_review}```\n",
    "\"\"\"\n",
    "\n",
    "response = get_completion(prompt)\n",
    "print(response)"
   ]
  },
  {
   "cell_type": "markdown",
   "id": "4f25d27b",
   "metadata": {
    "papermill": {
     "duration": 0.017558,
     "end_time": "2024-03-29T22:39:40.512754",
     "exception": false,
     "start_time": "2024-03-29T22:39:40.495196",
     "status": "completed"
    },
    "tags": []
   },
   "source": [
    "#### - Summarize with focus on specific aspects"
   ]
  },
  {
   "cell_type": "code",
   "execution_count": 13,
   "id": "588a7421",
   "metadata": {
    "execution": {
     "iopub.execute_input": "2024-03-29T22:39:40.550948Z",
     "iopub.status.busy": "2024-03-29T22:39:40.550529Z",
     "iopub.status.idle": "2024-03-29T22:39:41.191425Z",
     "shell.execute_reply": "2024-03-29T22:39:41.190236Z"
    },
    "papermill": {
     "duration": 0.663181,
     "end_time": "2024-03-29T22:39:41.193881",
     "exception": false,
     "start_time": "2024-03-29T22:39:40.530700",
     "status": "completed"
    },
    "tags": []
   },
   "outputs": [
    {
     "name": "stdout",
     "output_type": "stream",
     "text": [
      "Summary: \n",
      "Cute and soft panda plush toy, loved by daughter, but perceived as slightly small for the price paid. Consider offering larger options for the same price.\n"
     ]
    }
   ],
   "source": [
    "prompt = f\"\"\"\n",
    "Your task is to generate a short summary of a product \\\n",
    "review from an ecommerce site to give feedback to the \\\n",
    "pricing department, responsible for determining the \\\n",
    "price of the product.  \n",
    "\n",
    "Summarize the review below, delimited by triple \n",
    "backticks, in at most 30 words, and focusing on any aspects \\\n",
    "that are relevant to the price and perceived value. \n",
    "\n",
    "Review: ```{prod_review}```\n",
    "\"\"\"\n",
    "\n",
    "response = get_completion(prompt)\n",
    "print(response)\n"
   ]
  },
  {
   "cell_type": "markdown",
   "id": "052e79ab",
   "metadata": {
    "papermill": {
     "duration": 0.017798,
     "end_time": "2024-03-29T22:39:41.230235",
     "exception": false,
     "start_time": "2024-03-29T22:39:41.212437",
     "status": "completed"
    },
    "tags": []
   },
   "source": [
    "#### - Use 'extract' instead of 'summarize'"
   ]
  },
  {
   "cell_type": "code",
   "execution_count": 14,
   "id": "58728642",
   "metadata": {
    "execution": {
     "iopub.execute_input": "2024-03-29T22:39:41.268503Z",
     "iopub.status.busy": "2024-03-29T22:39:41.268109Z",
     "iopub.status.idle": "2024-03-29T22:39:43.552923Z",
     "shell.execute_reply": "2024-03-29T22:39:43.551397Z"
    },
    "papermill": {
     "duration": 2.306726,
     "end_time": "2024-03-29T22:39:43.555178",
     "exception": false,
     "start_time": "2024-03-29T22:39:41.248452",
     "status": "completed"
    },
    "tags": []
   },
   "outputs": [
    {
     "name": "stdout",
     "output_type": "stream",
     "text": [
      "Feedback: The shipping was faster than expected, arriving a day early. Customer suggests offering larger options for the same price.\n"
     ]
    }
   ],
   "source": [
    "prompt = f\"\"\"\n",
    "Your task is to extract relevant information from \\ \n",
    "a product review from an ecommerce site to give \\\n",
    "feedback to the Shipping department. \n",
    "\n",
    "From the review below, delimited by triple quotes \\\n",
    "extract the information relevant to shipping and \\ \n",
    "delivery. Limit to 30 words. \n",
    "\n",
    "Review: ```{prod_review}```\n",
    "\"\"\"\n",
    "\n",
    "response = get_completion(prompt)\n",
    "print(response)"
   ]
  },
  {
   "cell_type": "markdown",
   "id": "4228f836",
   "metadata": {
    "papermill": {
     "duration": 0.018972,
     "end_time": "2024-03-29T22:39:43.654687",
     "exception": false,
     "start_time": "2024-03-29T22:39:43.635715",
     "status": "completed"
    },
    "tags": []
   },
   "source": [
    "#### - Summarize multiple reviews in a loop"
   ]
  },
  {
   "cell_type": "code",
   "execution_count": 15,
   "id": "6cfe0d07",
   "metadata": {
    "execution": {
     "iopub.execute_input": "2024-03-29T22:39:43.692734Z",
     "iopub.status.busy": "2024-03-29T22:39:43.691895Z",
     "iopub.status.idle": "2024-03-29T22:39:43.700710Z",
     "shell.execute_reply": "2024-03-29T22:39:43.699950Z"
    },
    "papermill": {
     "duration": 0.030374,
     "end_time": "2024-03-29T22:39:43.702846",
     "exception": false,
     "start_time": "2024-03-29T22:39:43.672472",
     "status": "completed"
    },
    "tags": []
   },
   "outputs": [],
   "source": [
    "review_1 = prod_review \n",
    "\n",
    "# review for a standing lamp\n",
    "review_2 = \"\"\"\n",
    "Needed a nice lamp for my bedroom, and this one \\\n",
    "had additional storage and not too high of a price \\\n",
    "point. Got it fast - arrived in 2 days. The string \\\n",
    "to the lamp broke during the transit and the company \\\n",
    "happily sent over a new one. Came within a few days \\\n",
    "as well. It was easy to put together. Then I had a \\\n",
    "missing part, so I contacted their support and they \\\n",
    "very quickly got me the missing piece! Seems to me \\\n",
    "to be a great company that cares about their customers \\\n",
    "and products. \n",
    "\"\"\"\n",
    "\n",
    "# review for an electric toothbrush\n",
    "review_3 = \"\"\"\n",
    "My dental hygienist recommended an electric toothbrush, \\\n",
    "which is why I got this. The battery life seems to be \\\n",
    "pretty impressive so far. After initial charging and \\\n",
    "leaving the charger plugged in for the first week to \\\n",
    "condition the battery, I've unplugged the charger and \\\n",
    "been using it for twice daily brushing for the last \\\n",
    "3 weeks all on the same charge. But the toothbrush head \\\n",
    "is too small. I’ve seen baby toothbrushes bigger than \\\n",
    "this one. I wish the head was bigger with different \\\n",
    "length bristles to get between teeth better because \\\n",
    "this one doesn’t.  Overall if you can get this one \\\n",
    "around the $50 mark, it's a good deal. The manufactuer's \\\n",
    "replacements heads are pretty expensive, but you can \\\n",
    "get generic ones that're more reasonably priced. This \\\n",
    "toothbrush makes me feel like I've been to the dentist \\\n",
    "every day. My teeth feel sparkly clean! \n",
    "\"\"\"\n",
    "\n",
    "# review for a blender\n",
    "review_4 = \"\"\"\n",
    "So, they still had the 17 piece system on seasonal \\\n",
    "sale for around $49 in the month of November, about \\\n",
    "half off, but for some reason (call it price gouging) \\\n",
    "around the second week of December the prices all went \\\n",
    "up to about anywhere from between $70-$89 for the same \\\n",
    "system. And the 11 piece system went up around $10 or \\\n",
    "so in price also from the earlier sale price of $29. \\\n",
    "So it looks okay, but if you look at the base, the part \\\n",
    "where the blade locks into place doesn’t look as good \\\n",
    "as in previous editions from a few years ago, but I \\\n",
    "plan to be very gentle with it (example, I crush \\\n",
    "very hard items like beans, ice, rice, etc. in the \\ \n",
    "blender first then pulverize them in the serving size \\\n",
    "I want in the blender then switch to the whipping \\\n",
    "blade for a finer flour, and use the cross cutting blade \\\n",
    "first when making smoothies, then use the flat blade \\\n",
    "if I need them finer/less pulpy). Special tip when making \\\n",
    "smoothies, finely cut and freeze the fruits and \\\n",
    "vegetables (if using spinach-lightly stew soften the \\ \n",
    "spinach then freeze until ready for use-and if making \\\n",
    "sorbet, use a small to medium sized food processor) \\ \n",
    "that you plan to use that way you can avoid adding so \\\n",
    "much ice if at all-when making your smoothie. \\\n",
    "After about a year, the motor was making a funny noise. \\\n",
    "I called customer service but the warranty expired \\\n",
    "already, so I had to buy another one. FYI: The overall \\\n",
    "quality has gone done in these types of products, so \\\n",
    "they are kind of counting on brand recognition and \\\n",
    "consumer loyalty to maintain sales. Got it in about \\\n",
    "two days.\n",
    "\"\"\"\n",
    "\n",
    "reviews = [review_1, review_2, review_3, review_4]"
   ]
  },
  {
   "cell_type": "code",
   "execution_count": 16,
   "id": "17711f67",
   "metadata": {
    "execution": {
     "iopub.execute_input": "2024-03-29T22:39:43.740959Z",
     "iopub.status.busy": "2024-03-29T22:39:43.740202Z",
     "iopub.status.idle": "2024-03-29T22:39:47.619992Z",
     "shell.execute_reply": "2024-03-29T22:39:47.618535Z"
    },
    "papermill": {
     "duration": 3.901676,
     "end_time": "2024-03-29T22:39:47.622622",
     "exception": false,
     "start_time": "2024-03-29T22:39:43.720946",
     "status": "completed"
    },
    "tags": []
   },
   "outputs": [
    {
     "name": "stdout",
     "output_type": "stream",
     "text": [
      "0 Soft, cute panda plush toy loved by daughter, but small for price. Arrived early, friendly face. \n",
      "\n",
      "1 Great lamp with storage, fast delivery, excellent customer service for missing parts. Company cares about customers. \n",
      "\n",
      "2 Impressive battery life, small head, good deal for $50, generic replacement heads available, leaves teeth feeling clean. \n",
      "\n",
      "3 Summary: Price increased post-sale, base quality decreased, motor issue after a year, freezing tip for smoothies, declining product quality. \n",
      "\n"
     ]
    }
   ],
   "source": [
    "for i in range(len(reviews)):\n",
    "    prompt = f\"\"\"\n",
    "    Your task is to generate a short summary of a product \\ \n",
    "    review from an ecommerce site. \n",
    "\n",
    "    Summarize the review below, delimited by triple \\\n",
    "    backticks in at most 20 words. \n",
    "\n",
    "    Review: ```{reviews[i]}```\n",
    "    \"\"\"\n",
    "\n",
    "    response = get_completion(prompt)\n",
    "    print(i, response, \"\\n\")\n"
   ]
  },
  {
   "cell_type": "markdown",
   "id": "4da2b76c",
   "metadata": {
    "papermill": {
     "duration": 0.018343,
     "end_time": "2024-03-29T22:39:47.659757",
     "exception": false,
     "start_time": "2024-03-29T22:39:47.641414",
     "status": "completed"
    },
    "tags": []
   },
   "source": [
    "### 3. Inferring"
   ]
  },
  {
   "cell_type": "code",
   "execution_count": 17,
   "id": "9c9d3417",
   "metadata": {
    "execution": {
     "iopub.execute_input": "2024-03-29T22:39:47.698429Z",
     "iopub.status.busy": "2024-03-29T22:39:47.697993Z",
     "iopub.status.idle": "2024-03-29T22:39:47.703741Z",
     "shell.execute_reply": "2024-03-29T22:39:47.702499Z"
    },
    "papermill": {
     "duration": 0.027927,
     "end_time": "2024-03-29T22:39:47.706124",
     "exception": false,
     "start_time": "2024-03-29T22:39:47.678197",
     "status": "completed"
    },
    "tags": []
   },
   "outputs": [],
   "source": [
    "lamp_review = \"\"\"\n",
    "Needed a nice lamp for my bedroom, and this one had \\\n",
    "additional storage and not too high of a price point. \\\n",
    "Got it fast.  The string to our lamp broke during the \\\n",
    "transit and the company happily sent over a new one. \\\n",
    "Came within a few days as well. It was easy to put \\\n",
    "together.  I had a missing part, so I contacted their \\\n",
    "support and they very quickly got me the missing piece! \\\n",
    "Lumina seems to me to be a great company that cares \\\n",
    "about their customers and products!!\n",
    "\"\"\""
   ]
  },
  {
   "cell_type": "markdown",
   "id": "ed493dac",
   "metadata": {
    "papermill": {
     "duration": 0.018391,
     "end_time": "2024-03-29T22:39:47.744041",
     "exception": false,
     "start_time": "2024-03-29T22:39:47.725650",
     "status": "completed"
    },
    "tags": []
   },
   "source": [
    "#### - Sentiment (positive/negative)"
   ]
  },
  {
   "cell_type": "code",
   "execution_count": 18,
   "id": "daca59e7",
   "metadata": {
    "execution": {
     "iopub.execute_input": "2024-03-29T22:39:47.784439Z",
     "iopub.status.busy": "2024-03-29T22:39:47.784050Z",
     "iopub.status.idle": "2024-03-29T22:39:48.782447Z",
     "shell.execute_reply": "2024-03-29T22:39:48.780967Z"
    },
    "papermill": {
     "duration": 1.021094,
     "end_time": "2024-03-29T22:39:48.785049",
     "exception": false,
     "start_time": "2024-03-29T22:39:47.763955",
     "status": "completed"
    },
    "tags": []
   },
   "outputs": [
    {
     "name": "stdout",
     "output_type": "stream",
     "text": [
      "The sentiment of the review is positive. The reviewer is satisfied with the lamp, the customer service, and the company in general.\n"
     ]
    }
   ],
   "source": [
    "prompt = f\"\"\"\n",
    "What is the sentiment of the following product review, \n",
    "which is delimited with triple backticks?\n",
    "\n",
    "Review text: '''{lamp_review}'''\n",
    "\"\"\"\n",
    "response = get_completion(prompt)\n",
    "print(response)"
   ]
  },
  {
   "cell_type": "code",
   "execution_count": 19,
   "id": "2bdaad38",
   "metadata": {
    "execution": {
     "iopub.execute_input": "2024-03-29T22:39:48.825386Z",
     "iopub.status.busy": "2024-03-29T22:39:48.824956Z",
     "iopub.status.idle": "2024-03-29T22:39:49.335928Z",
     "shell.execute_reply": "2024-03-29T22:39:49.334708Z"
    },
    "papermill": {
     "duration": 0.534098,
     "end_time": "2024-03-29T22:39:49.338131",
     "exception": false,
     "start_time": "2024-03-29T22:39:48.804033",
     "status": "completed"
    },
    "tags": []
   },
   "outputs": [
    {
     "name": "stdout",
     "output_type": "stream",
     "text": [
      "Positive\n"
     ]
    }
   ],
   "source": [
    "prompt = f\"\"\"\n",
    "What is the sentiment of the following product review, \n",
    "which is delimited with triple backticks?\n",
    "\n",
    "Give your answer as a single word, either \"positive\" \\\n",
    "or \"negative\".\n",
    "\n",
    "Review text: '''{lamp_review}'''\n",
    "\"\"\"\n",
    "response = get_completion(prompt)\n",
    "print(response)"
   ]
  },
  {
   "cell_type": "markdown",
   "id": "ea88779e",
   "metadata": {
    "papermill": {
     "duration": 0.018143,
     "end_time": "2024-03-29T22:39:49.375217",
     "exception": false,
     "start_time": "2024-03-29T22:39:49.357074",
     "status": "completed"
    },
    "tags": []
   },
   "source": [
    "#### - Identify types of emotions in text"
   ]
  },
  {
   "cell_type": "code",
   "execution_count": 20,
   "id": "7d73fff2",
   "metadata": {
    "execution": {
     "iopub.execute_input": "2024-03-29T22:39:49.414124Z",
     "iopub.status.busy": "2024-03-29T22:39:49.413711Z",
     "iopub.status.idle": "2024-03-29T22:39:50.150651Z",
     "shell.execute_reply": "2024-03-29T22:39:50.149615Z"
    },
    "papermill": {
     "duration": 0.759459,
     "end_time": "2024-03-29T22:39:50.153343",
     "exception": false,
     "start_time": "2024-03-29T22:39:49.393884",
     "status": "completed"
    },
    "tags": []
   },
   "outputs": [
    {
     "name": "stdout",
     "output_type": "stream",
     "text": [
      "happy, satisfied, grateful, impressed, content\n"
     ]
    }
   ],
   "source": [
    "prompt = f\"\"\"\n",
    "Identify a list of emotions that the writer of the \\\n",
    "following review is expressing. Include no more than \\\n",
    "five items in the list. Format your answer as a list of \\\n",
    "lower-case words separated by commas.\n",
    "\n",
    "Review text: '''{lamp_review}'''\n",
    "\"\"\"\n",
    "response = get_completion(prompt)\n",
    "print(response)"
   ]
  },
  {
   "cell_type": "code",
   "execution_count": 21,
   "id": "5df71649",
   "metadata": {
    "execution": {
     "iopub.execute_input": "2024-03-29T22:39:50.193320Z",
     "iopub.status.busy": "2024-03-29T22:39:50.192746Z",
     "iopub.status.idle": "2024-03-29T22:39:51.056249Z",
     "shell.execute_reply": "2024-03-29T22:39:51.055189Z"
    },
    "papermill": {
     "duration": 0.886308,
     "end_time": "2024-03-29T22:39:51.058954",
     "exception": false,
     "start_time": "2024-03-29T22:39:50.172646",
     "status": "completed"
    },
    "tags": []
   },
   "outputs": [
    {
     "name": "stdout",
     "output_type": "stream",
     "text": [
      "No\n"
     ]
    }
   ],
   "source": [
    "prompt = f\"\"\"\n",
    "Is the writer of the following review expressing anger?\\\n",
    "The review is delimited with triple backticks. \\\n",
    "Give your answer as either yes or no.\n",
    "\n",
    "Review text: '''{lamp_review}'''\n",
    "\"\"\"\n",
    "response = get_completion(prompt)\n",
    "print(response)"
   ]
  },
  {
   "cell_type": "markdown",
   "id": "05d28631",
   "metadata": {
    "papermill": {
     "duration": 0.018802,
     "end_time": "2024-03-29T22:39:51.097841",
     "exception": false,
     "start_time": "2024-03-29T22:39:51.079039",
     "status": "completed"
    },
    "tags": []
   },
   "source": [
    "#### - Extract information from text"
   ]
  },
  {
   "cell_type": "code",
   "execution_count": 22,
   "id": "e38874e1",
   "metadata": {
    "execution": {
     "iopub.execute_input": "2024-03-29T22:39:51.138292Z",
     "iopub.status.busy": "2024-03-29T22:39:51.137877Z",
     "iopub.status.idle": "2024-03-29T22:39:51.986354Z",
     "shell.execute_reply": "2024-03-29T22:39:51.985060Z"
    },
    "papermill": {
     "duration": 0.871758,
     "end_time": "2024-03-29T22:39:51.989108",
     "exception": false,
     "start_time": "2024-03-29T22:39:51.117350",
     "status": "completed"
    },
    "tags": []
   },
   "outputs": [
    {
     "name": "stdout",
     "output_type": "stream",
     "text": [
      "{\n",
      "  \"Item\": \"lamp\",\n",
      "  \"Brand\": \"Lumina\"\n",
      "}\n"
     ]
    }
   ],
   "source": [
    "prompt = f\"\"\"\n",
    "Identify the following items from the review text: \n",
    "- Item purchased by reviewer\n",
    "- Company that made the item\n",
    "\n",
    "The review is delimited with triple backticks. \\\n",
    "Format your response as a JSON object with \\\n",
    "\"Item\" and \"Brand\" as the keys. \n",
    "If the information isn't present, use \"unknown\" \\\n",
    "as the value.\n",
    "Make your response as short as possible.\n",
    "  \n",
    "Review text: '''{lamp_review}'''\n",
    "\"\"\"\n",
    "response = get_completion(prompt)\n",
    "print(response)"
   ]
  },
  {
   "cell_type": "code",
   "execution_count": 23,
   "id": "5384a385",
   "metadata": {
    "execution": {
     "iopub.execute_input": "2024-03-29T22:39:52.028721Z",
     "iopub.status.busy": "2024-03-29T22:39:52.028352Z",
     "iopub.status.idle": "2024-03-29T22:39:53.093258Z",
     "shell.execute_reply": "2024-03-29T22:39:53.091777Z"
    },
    "papermill": {
     "duration": 1.087615,
     "end_time": "2024-03-29T22:39:53.095881",
     "exception": false,
     "start_time": "2024-03-29T22:39:52.008266",
     "status": "completed"
    },
    "tags": []
   },
   "outputs": [
    {
     "name": "stdout",
     "output_type": "stream",
     "text": [
      "{\n",
      "    \"Sentiment\": \"positive\",\n",
      "    \"Anger\": false,\n",
      "    \"Item\": \"lamp\",\n",
      "    \"Brand\": \"Lumina\"\n",
      "}\n"
     ]
    }
   ],
   "source": [
    "prompt = f\"\"\"\n",
    "Identify the following items from the review text: \n",
    "- Sentiment (positive or negative)\n",
    "- Is the reviewer expressing anger? (true or false)\n",
    "- Item purchased by reviewer\n",
    "- Company that made the item\n",
    "\n",
    "The review is delimited with triple backticks. \\\n",
    "Format your response as a JSON object with \\\n",
    "\"Sentiment\", \"Anger\", \"Item\" and \"Brand\" as the keys.\n",
    "If the information isn't present, use \"unknown\" \\\n",
    "as the value.\n",
    "Make your response as short as possible.\n",
    "Format the Anger value as a boolean.\n",
    "\n",
    "Review text: '''{lamp_review}'''\n",
    "\"\"\"\n",
    "response = get_completion(prompt)\n",
    "print(response)"
   ]
  },
  {
   "cell_type": "markdown",
   "id": "1e531331",
   "metadata": {
    "papermill": {
     "duration": 0.018734,
     "end_time": "2024-03-29T22:39:53.134115",
     "exception": false,
     "start_time": "2024-03-29T22:39:53.115381",
     "status": "completed"
    },
    "tags": []
   },
   "source": [
    "#### - Inferring topics"
   ]
  },
  {
   "cell_type": "code",
   "execution_count": 24,
   "id": "7ca91f8a",
   "metadata": {
    "execution": {
     "iopub.execute_input": "2024-03-29T22:39:53.176438Z",
     "iopub.status.busy": "2024-03-29T22:39:53.175179Z",
     "iopub.status.idle": "2024-03-29T22:39:53.182878Z",
     "shell.execute_reply": "2024-03-29T22:39:53.181624Z"
    },
    "papermill": {
     "duration": 0.032763,
     "end_time": "2024-03-29T22:39:53.186179",
     "exception": false,
     "start_time": "2024-03-29T22:39:53.153416",
     "status": "completed"
    },
    "tags": []
   },
   "outputs": [],
   "source": [
    "story = \"\"\"\n",
    "In a recent survey conducted by the government, \n",
    "public sector employees were asked to rate their level \n",
    "of satisfaction with the department they work at. \n",
    "The results revealed that NASA was the most popular \n",
    "department with a satisfaction rating of 95%.\n",
    "\n",
    "One NASA employee, John Smith, commented on the findings, \n",
    "stating, \"I'm not surprised that NASA came out on top. \n",
    "It's a great place to work with amazing people and \n",
    "incredible opportunities. I'm proud to be a part of \n",
    "such an innovative organization.\"\n",
    "\n",
    "The results were also welcomed by NASA's management team, \n",
    "with Director Tom Johnson stating, \"We are thrilled to \n",
    "hear that our employees are satisfied with their work at NASA. \n",
    "We have a talented and dedicated team who work tirelessly \n",
    "to achieve our goals, and it's fantastic to see that their \n",
    "hard work is paying off.\"\n",
    "\n",
    "The survey also revealed that the \n",
    "Social Security Administration had the lowest satisfaction \n",
    "rating, with only 45% of employees indicating they were \n",
    "satisfied with their job. The government has pledged to \n",
    "address the concerns raised by employees in the survey and \n",
    "work towards improving job satisfaction across all departments.\n",
    "\"\"\""
   ]
  },
  {
   "cell_type": "code",
   "execution_count": 25,
   "id": "f11f0d55",
   "metadata": {
    "execution": {
     "iopub.execute_input": "2024-03-29T22:39:53.237249Z",
     "iopub.status.busy": "2024-03-29T22:39:53.236552Z",
     "iopub.status.idle": "2024-03-29T22:39:54.045086Z",
     "shell.execute_reply": "2024-03-29T22:39:54.043802Z"
    },
    "papermill": {
     "duration": 0.835719,
     "end_time": "2024-03-29T22:39:54.047935",
     "exception": false,
     "start_time": "2024-03-29T22:39:53.212216",
     "status": "completed"
    },
    "tags": []
   },
   "outputs": [
    {
     "name": "stdout",
     "output_type": "stream",
     "text": [
      "1. Survey\n",
      "2. Job satisfaction\n",
      "3. NASA\n",
      "4. Social Security Administration\n",
      "5. Government pledge\n"
     ]
    }
   ],
   "source": [
    "prompt = f\"\"\"\n",
    "Determine five topics that are being discussed in the \\\n",
    "following text, which is delimited by triple backticks.\n",
    "\n",
    "Make each item one or two words long. \n",
    "\n",
    "Format your response as a list of items separated by commas.\n",
    "\n",
    "Text sample: '''{story}'''\n",
    "\"\"\"\n",
    "response = get_completion(prompt)\n",
    "print(response)"
   ]
  },
  {
   "cell_type": "markdown",
   "id": "ad5c67ea",
   "metadata": {
    "papermill": {
     "duration": 0.018674,
     "end_time": "2024-03-29T22:39:54.085754",
     "exception": false,
     "start_time": "2024-03-29T22:39:54.067080",
     "status": "completed"
    },
    "tags": []
   },
   "source": [
    "### 4. Transforming"
   ]
  },
  {
   "cell_type": "markdown",
   "id": "0a01e85b",
   "metadata": {
    "papermill": {
     "duration": 0.018517,
     "end_time": "2024-03-29T22:39:54.123243",
     "exception": false,
     "start_time": "2024-03-29T22:39:54.104726",
     "status": "completed"
    },
    "tags": []
   },
   "source": [
    "#### - Translation"
   ]
  },
  {
   "cell_type": "code",
   "execution_count": 26,
   "id": "8ff43c59",
   "metadata": {
    "execution": {
     "iopub.execute_input": "2024-03-29T22:39:54.163102Z",
     "iopub.status.busy": "2024-03-29T22:39:54.162375Z",
     "iopub.status.idle": "2024-03-29T22:39:54.633510Z",
     "shell.execute_reply": "2024-03-29T22:39:54.632408Z"
    },
    "papermill": {
     "duration": 0.494153,
     "end_time": "2024-03-29T22:39:54.636249",
     "exception": false,
     "start_time": "2024-03-29T22:39:54.142096",
     "status": "completed"
    },
    "tags": []
   },
   "outputs": [
    {
     "name": "stdout",
     "output_type": "stream",
     "text": [
      "Hola, me gustaría ordenar una licuadora.\n"
     ]
    }
   ],
   "source": [
    "prompt = f\"\"\"\n",
    "Translate the following English text to Spanish: \\ \n",
    "```Hi, I would like to order a blender```\n",
    "\"\"\"\n",
    "response = get_completion(prompt)\n",
    "print(response)"
   ]
  },
  {
   "cell_type": "code",
   "execution_count": 27,
   "id": "49c44876",
   "metadata": {
    "execution": {
     "iopub.execute_input": "2024-03-29T22:39:54.677767Z",
     "iopub.status.busy": "2024-03-29T22:39:54.677159Z",
     "iopub.status.idle": "2024-03-29T22:39:55.238282Z",
     "shell.execute_reply": "2024-03-29T22:39:55.236720Z"
    },
    "papermill": {
     "duration": 0.586636,
     "end_time": "2024-03-29T22:39:55.242152",
     "exception": false,
     "start_time": "2024-03-29T22:39:54.655516",
     "status": "completed"
    },
    "tags": []
   },
   "outputs": [
    {
     "name": "stdout",
     "output_type": "stream",
     "text": [
      "This is French.\n"
     ]
    }
   ],
   "source": [
    "prompt = f\"\"\"\n",
    "Tell me which language this is: \n",
    "```Combien coûte le lampadaire?```\n",
    "\"\"\"\n",
    "response = get_completion(prompt)\n",
    "print(response)"
   ]
  },
  {
   "cell_type": "code",
   "execution_count": 28,
   "id": "4c445a3d",
   "metadata": {
    "execution": {
     "iopub.execute_input": "2024-03-29T22:39:55.282628Z",
     "iopub.status.busy": "2024-03-29T22:39:55.282196Z",
     "iopub.status.idle": "2024-03-29T22:39:58.646148Z",
     "shell.execute_reply": "2024-03-29T22:39:58.644921Z"
    },
    "papermill": {
     "duration": 3.386642,
     "end_time": "2024-03-29T22:39:58.648360",
     "exception": false,
     "start_time": "2024-03-29T22:39:55.261718",
     "status": "completed"
    },
    "tags": []
   },
   "outputs": [
    {
     "name": "stdout",
     "output_type": "stream",
     "text": [
      "French: ```Je veux commander un ballon de basket```\n",
      "\n",
      "Spanish: ```Quiero ordenar un balón de baloncesto```\n",
      "\n",
      "Pirate English: ```I be wantin' to order a basketball```\n"
     ]
    }
   ],
   "source": [
    "prompt = f\"\"\"\n",
    "Translate the following  text to French and Spanish\n",
    "and English pirate: \\\n",
    "```I want to order a basketball```\n",
    "\"\"\"\n",
    "response = get_completion(prompt)\n",
    "print(response)"
   ]
  },
  {
   "cell_type": "code",
   "execution_count": 29,
   "id": "e30f624e",
   "metadata": {
    "execution": {
     "iopub.execute_input": "2024-03-29T22:39:58.689642Z",
     "iopub.status.busy": "2024-03-29T22:39:58.688649Z",
     "iopub.status.idle": "2024-03-29T22:39:59.875643Z",
     "shell.execute_reply": "2024-03-29T22:39:59.874258Z"
    },
    "papermill": {
     "duration": 1.21165,
     "end_time": "2024-03-29T22:39:59.879213",
     "exception": false,
     "start_time": "2024-03-29T22:39:58.667563",
     "status": "completed"
    },
    "tags": []
   },
   "outputs": [
    {
     "name": "stdout",
     "output_type": "stream",
     "text": [
      "Formal: ¿Le gustaría ordenar una almohada?\n",
      "Informal: ¿Te gustaría ordenar una almohada?\n"
     ]
    }
   ],
   "source": [
    "prompt = f\"\"\"\n",
    "Translate the following text to Spanish in both the \\\n",
    "formal and informal forms: \n",
    "'Would you like to order a pillow?'\n",
    "\"\"\"\n",
    "response = get_completion(prompt)\n",
    "print(response)"
   ]
  },
  {
   "cell_type": "markdown",
   "id": "5230e510",
   "metadata": {
    "papermill": {
     "duration": 0.019465,
     "end_time": "2024-03-29T22:39:59.920066",
     "exception": false,
     "start_time": "2024-03-29T22:39:59.900601",
     "status": "completed"
    },
    "tags": []
   },
   "source": [
    "#### - Tone transformation"
   ]
  },
  {
   "cell_type": "code",
   "execution_count": 30,
   "id": "10d6a233",
   "metadata": {
    "execution": {
     "iopub.execute_input": "2024-03-29T22:39:59.961057Z",
     "iopub.status.busy": "2024-03-29T22:39:59.960322Z",
     "iopub.status.idle": "2024-03-29T22:40:02.282943Z",
     "shell.execute_reply": "2024-03-29T22:40:02.281969Z"
    },
    "papermill": {
     "duration": 2.345961,
     "end_time": "2024-03-29T22:40:02.285382",
     "exception": false,
     "start_time": "2024-03-29T22:39:59.939421",
     "status": "completed"
    },
    "tags": []
   },
   "outputs": [
    {
     "name": "stdout",
     "output_type": "stream",
     "text": [
      "Dear Sir/Madam,\n",
      "\n",
      "I am writing to bring to your attention the specifications of a standing lamp that I believe may be of interest to you. \n",
      "\n",
      "Sincerely,\n",
      "Joe\n"
     ]
    }
   ],
   "source": [
    "prompt = f\"\"\"\n",
    "Translate the following from slang to a business letter: \n",
    "'Dude, This is Joe, check out this spec on this standing lamp.'\n",
    "\"\"\"\n",
    "response = get_completion(prompt)\n",
    "print(response)"
   ]
  },
  {
   "cell_type": "markdown",
   "id": "37f347b2",
   "metadata": {
    "papermill": {
     "duration": 0.019618,
     "end_time": "2024-03-29T22:40:02.324924",
     "exception": false,
     "start_time": "2024-03-29T22:40:02.305306",
     "status": "completed"
    },
    "tags": []
   },
   "source": [
    "#### - Format conversion"
   ]
  },
  {
   "cell_type": "code",
   "execution_count": 31,
   "id": "b1c251af",
   "metadata": {
    "execution": {
     "iopub.execute_input": "2024-03-29T22:40:02.366586Z",
     "iopub.status.busy": "2024-03-29T22:40:02.365837Z",
     "iopub.status.idle": "2024-03-29T22:40:06.147564Z",
     "shell.execute_reply": "2024-03-29T22:40:06.146357Z"
    },
    "papermill": {
     "duration": 3.805822,
     "end_time": "2024-03-29T22:40:06.150266",
     "exception": false,
     "start_time": "2024-03-29T22:40:02.344444",
     "status": "completed"
    },
    "tags": []
   },
   "outputs": [
    {
     "name": "stdout",
     "output_type": "stream",
     "text": [
      "<html>\n",
      "<head>\n",
      "  <title>Restaurant Employees</title>\n",
      "</head>\n",
      "<body>\n",
      "  <table>\n",
      "    <tr>\n",
      "      <th>Name</th>\n",
      "      <th>Email</th>\n",
      "    </tr>\n",
      "    <tr>\n",
      "      <td>Shyam</td>\n",
      "      <td>shyamjaiswal@gmail.com</td>\n",
      "    </tr>\n",
      "    <tr>\n",
      "      <td>Bob</td>\n",
      "      <td>bob32@gmail.com</td>\n",
      "    </tr>\n",
      "    <tr>\n",
      "      <td>Jai</td>\n",
      "      <td>jai87@gmail.com</td>\n",
      "    </tr>\n",
      "  </table>\n",
      "</body>\n",
      "</html>\n"
     ]
    }
   ],
   "source": [
    "data_json = { \"resturant employees\" :[ \n",
    "    {\"name\":\"Shyam\", \"email\":\"shyamjaiswal@gmail.com\"},\n",
    "    {\"name\":\"Bob\", \"email\":\"bob32@gmail.com\"},\n",
    "    {\"name\":\"Jai\", \"email\":\"jai87@gmail.com\"}\n",
    "]}\n",
    "\n",
    "prompt = f\"\"\"\n",
    "Translate the following python dictionary from JSON to an HTML \\\n",
    "table with column headers and title: {data_json}\n",
    "\"\"\"\n",
    "response = get_completion(prompt)\n",
    "print(response)"
   ]
  },
  {
   "cell_type": "code",
   "execution_count": 32,
   "id": "92b13556",
   "metadata": {
    "execution": {
     "iopub.execute_input": "2024-03-29T22:40:06.191732Z",
     "iopub.status.busy": "2024-03-29T22:40:06.190997Z",
     "iopub.status.idle": "2024-03-29T22:40:06.199285Z",
     "shell.execute_reply": "2024-03-29T22:40:06.198410Z"
    },
    "papermill": {
     "duration": 0.031181,
     "end_time": "2024-03-29T22:40:06.201292",
     "exception": false,
     "start_time": "2024-03-29T22:40:06.170111",
     "status": "completed"
    },
    "tags": []
   },
   "outputs": [
    {
     "data": {
      "text/html": [
       "<html>\n",
       "<head>\n",
       "  <title>Restaurant Employees</title>\n",
       "</head>\n",
       "<body>\n",
       "  <table>\n",
       "    <tr>\n",
       "      <th>Name</th>\n",
       "      <th>Email</th>\n",
       "    </tr>\n",
       "    <tr>\n",
       "      <td>Shyam</td>\n",
       "      <td>shyamjaiswal@gmail.com</td>\n",
       "    </tr>\n",
       "    <tr>\n",
       "      <td>Bob</td>\n",
       "      <td>bob32@gmail.com</td>\n",
       "    </tr>\n",
       "    <tr>\n",
       "      <td>Jai</td>\n",
       "      <td>jai87@gmail.com</td>\n",
       "    </tr>\n",
       "  </table>\n",
       "</body>\n",
       "</html>"
      ],
      "text/plain": [
       "<IPython.core.display.HTML object>"
      ]
     },
     "metadata": {},
     "output_type": "display_data"
    }
   ],
   "source": [
    "from IPython.display import display, Markdown, Latex, HTML, JSON\n",
    "display(HTML(response))"
   ]
  },
  {
   "cell_type": "markdown",
   "id": "59fb1985",
   "metadata": {
    "papermill": {
     "duration": 0.019785,
     "end_time": "2024-03-29T22:40:06.241275",
     "exception": false,
     "start_time": "2024-03-29T22:40:06.221490",
     "status": "completed"
    },
    "tags": []
   },
   "source": [
    "#### - Spellcheck and grammer check"
   ]
  },
  {
   "cell_type": "code",
   "execution_count": 33,
   "id": "593d3000",
   "metadata": {
    "execution": {
     "iopub.execute_input": "2024-03-29T22:40:06.283657Z",
     "iopub.status.busy": "2024-03-29T22:40:06.283290Z",
     "iopub.status.idle": "2024-03-29T22:40:11.594939Z",
     "shell.execute_reply": "2024-03-29T22:40:11.593646Z"
    },
    "papermill": {
     "duration": 5.336952,
     "end_time": "2024-03-29T22:40:11.598123",
     "exception": false,
     "start_time": "2024-03-29T22:40:06.261171",
     "status": "completed"
    },
    "tags": []
   },
   "outputs": [
    {
     "name": "stdout",
     "output_type": "stream",
     "text": [
      "The girl with the black and white puppies has a ball.\n",
      "No errors found.\n",
      "It's going to be a long day. Does the car need its oil changed?\n",
      "There goes my freedom. They're going to bring their suitcases.\n",
      "You're going to need your notebook.\n",
      "That medicine affects my ability to sleep. Have you heard of the butterfly effect?\n",
      "This phrase is to check chatGPT for spelling ability.\n"
     ]
    }
   ],
   "source": [
    "text = [ \n",
    "  \"The girl with the black and white puppies have a ball.\",  # The girl has a ball.\n",
    "  \"Yolanda has her notebook.\", # ok\n",
    "  \"Its going to be a long day. Does the car need it’s oil changed?\",  # Homonyms\n",
    "  \"Their goes my freedom. There going to bring they’re suitcases.\",  # Homonyms\n",
    "  \"Your going to need you’re notebook.\",  # Homonyms\n",
    "  \"That medicine effects my ability to sleep. Have you heard of the butterfly affect?\", # Homonyms\n",
    "  \"This phrase is to cherck chatGPT for speling abilitty\"  # spelling\n",
    "]\n",
    "for t in text:\n",
    "    prompt = f\"\"\"Proofread and correct the following text\n",
    "    and rewrite the corrected version. Pay special attention to homonyms. If you don't find\n",
    "    and errors, just say \"No errors found\". Don't use \n",
    "    any punctuation around the text:\n",
    "    ```{t}```\"\"\"\n",
    "    response = get_completion(prompt)\n",
    "    print(response)"
   ]
  },
  {
   "cell_type": "code",
   "execution_count": 34,
   "id": "4255b0b0",
   "metadata": {
    "execution": {
     "iopub.execute_input": "2024-03-29T22:40:11.644780Z",
     "iopub.status.busy": "2024-03-29T22:40:11.644431Z",
     "iopub.status.idle": "2024-03-29T22:40:13.410140Z",
     "shell.execute_reply": "2024-03-29T22:40:13.408644Z"
    },
    "papermill": {
     "duration": 1.790711,
     "end_time": "2024-03-29T22:40:13.412389",
     "exception": false,
     "start_time": "2024-03-29T22:40:11.621678",
     "status": "completed"
    },
    "tags": []
   },
   "outputs": [
    {
     "name": "stdout",
     "output_type": "stream",
     "text": [
      "I got this for my daughter for her birthday because she keeps taking mine from my room. Yes, adults also like pandas too. She takes it everywhere with her, and it's super soft and cute. One of the ears is a bit lower than the other, and I don't think that was designed to be asymmetrical. It's a bit small for what I paid for it though. I think there might be other options that are bigger for the same price. It arrived a day earlier than expected, so I got to play with it myself before I gave it to my daughter.\n"
     ]
    }
   ],
   "source": [
    "text = f\"\"\"\n",
    "Got this for my daughter for her birthday cuz she keeps taking \\\n",
    "mine from my room.  Yes, adults also like pandas too.  She takes \\\n",
    "it everywhere with her, and it's super soft and cute.  One of the \\\n",
    "ears is a bit lower than the other, and I don't think that was \\\n",
    "designed to be asymmetrical. It's a bit small for what I paid for it \\\n",
    "though. I think there might be other options that are bigger for \\\n",
    "the same price.  It arrived a day earlier than expected, so I got \\\n",
    "to play with it myself before I gave it to my daughter.\n",
    "\"\"\"\n",
    "prompt = f\"proofread and correct this review: ```{text}```\"\n",
    "response = get_completion(prompt)\n",
    "print(response)"
   ]
  },
  {
   "cell_type": "markdown",
   "id": "8e4f63ef",
   "metadata": {
    "papermill": {
     "duration": 0.019651,
     "end_time": "2024-03-29T22:40:13.452355",
     "exception": false,
     "start_time": "2024-03-29T22:40:13.432704",
     "status": "completed"
    },
    "tags": []
   },
   "source": [
    "### 5. Expanding"
   ]
  },
  {
   "cell_type": "code",
   "execution_count": 35,
   "id": "f3684c82",
   "metadata": {
    "execution": {
     "iopub.execute_input": "2024-03-29T22:40:13.494389Z",
     "iopub.status.busy": "2024-03-29T22:40:13.494017Z",
     "iopub.status.idle": "2024-03-29T22:40:13.500956Z",
     "shell.execute_reply": "2024-03-29T22:40:13.499571Z"
    },
    "papermill": {
     "duration": 0.030988,
     "end_time": "2024-03-29T22:40:13.503469",
     "exception": false,
     "start_time": "2024-03-29T22:40:13.472481",
     "status": "completed"
    },
    "tags": []
   },
   "outputs": [],
   "source": [
    "# given the sentiment from the lesson on \"inferring\",\n",
    "# and the original customer message, customize the email\n",
    "sentiment = \"negative\"\n",
    "\n",
    "# review for a blender\n",
    "review = f\"\"\"\n",
    "So, they still had the 17 piece system on seasonal \\\n",
    "sale for around $49 in the month of November, about \\\n",
    "half off, but for some reason (call it price gouging) \\\n",
    "around the second week of December the prices all went \\\n",
    "up to about anywhere from between $70-$89 for the same \\\n",
    "system. And the 11 piece system went up around $10 or \\\n",
    "so in price also from the earlier sale price of $29. \\\n",
    "So it looks okay, but if you look at the base, the part \\\n",
    "where the blade locks into place doesn’t look as good \\\n",
    "as in previous editions from a few years ago, but I \\\n",
    "plan to be very gentle with it (example, I crush \\\n",
    "very hard items like beans, ice, rice, etc. in the \\ \n",
    "blender first then pulverize them in the serving size \\\n",
    "I want in the blender then switch to the whipping \\\n",
    "blade for a finer flour, and use the cross cutting blade \\\n",
    "first when making smoothies, then use the flat blade \\\n",
    "if I need them finer/less pulpy). Special tip when making \\\n",
    "smoothies, finely cut and freeze the fruits and \\\n",
    "vegetables (if using spinach-lightly stew soften the \\ \n",
    "spinach then freeze until ready for use-and if making \\\n",
    "sorbet, use a small to medium sized food processor) \\ \n",
    "that you plan to use that way you can avoid adding so \\\n",
    "much ice if at all-when making your smoothie. \\\n",
    "After about a year, the motor was making a funny noise. \\\n",
    "I called customer service but the warranty expired \\\n",
    "already, so I had to buy another one. FYI: The overall \\\n",
    "quality has gone done in these types of products, so \\\n",
    "they are kind of counting on brand recognition and \\\n",
    "consumer loyalty to maintain sales. Got it in about \\\n",
    "two days.\n",
    "\"\"\""
   ]
  },
  {
   "cell_type": "markdown",
   "id": "0ed58f81",
   "metadata": {
    "papermill": {
     "duration": 0.019671,
     "end_time": "2024-03-29T22:40:13.543306",
     "exception": false,
     "start_time": "2024-03-29T22:40:13.523635",
     "status": "completed"
    },
    "tags": []
   },
   "source": [
    "#### - Customize automated reply"
   ]
  },
  {
   "cell_type": "code",
   "execution_count": 36,
   "id": "db14287e",
   "metadata": {
    "execution": {
     "iopub.execute_input": "2024-03-29T22:40:13.585697Z",
     "iopub.status.busy": "2024-03-29T22:40:13.585092Z",
     "iopub.status.idle": "2024-03-29T22:40:15.125177Z",
     "shell.execute_reply": "2024-03-29T22:40:15.123998Z"
    },
    "papermill": {
     "duration": 1.564215,
     "end_time": "2024-03-29T22:40:15.127705",
     "exception": false,
     "start_time": "2024-03-29T22:40:13.563490",
     "status": "completed"
    },
    "tags": []
   },
   "outputs": [
    {
     "name": "stdout",
     "output_type": "stream",
     "text": [
      "Dear valued customer,\n",
      "\n",
      "Thank you for taking the time to share your detailed feedback with us. We are truly sorry to hear about the issues you experienced with the pricing changes and the quality of the product. We apologize for any inconvenience this may have caused you.\n",
      "\n",
      "If you have any further concerns or would like to discuss this matter further, please do not hesitate to reach out to our customer service team. They will be more than happy to assist you.\n",
      "\n",
      "We appreciate your loyalty and feedback as it helps us improve our products and services for all our customers.\n",
      "\n",
      "Thank you again for your review.\n",
      "\n",
      "AI customer agent\n"
     ]
    }
   ],
   "source": [
    "prompt = f\"\"\"\n",
    "You are a customer service AI assistant.\n",
    "Your task is to send an email reply to a valued customer.\n",
    "Given the customer email delimited by ```, \\\n",
    "Generate a reply to thank the customer for their review.\n",
    "If the sentiment is positive or neutral, thank them for \\\n",
    "their review.\n",
    "If the sentiment is negative, apologize and suggest that \\\n",
    "they can reach out to customer service. \n",
    "Make sure to use specific details from the review.\n",
    "Write in a concise and professional tone.\n",
    "Sign the email as `AI customer agent`.\n",
    "Customer review: ```{review}```\n",
    "Review sentiment: {sentiment}\n",
    "\"\"\"\n",
    "response = get_completion(prompt)\n",
    "print(response)"
   ]
  },
  {
   "cell_type": "code",
   "execution_count": 37,
   "id": "7b74bced",
   "metadata": {
    "execution": {
     "iopub.execute_input": "2024-03-29T22:40:15.170739Z",
     "iopub.status.busy": "2024-03-29T22:40:15.170369Z",
     "iopub.status.idle": "2024-03-29T22:40:17.005980Z",
     "shell.execute_reply": "2024-03-29T22:40:17.004850Z"
    },
    "papermill": {
     "duration": 1.859995,
     "end_time": "2024-03-29T22:40:17.008272",
     "exception": false,
     "start_time": "2024-03-29T22:40:15.148277",
     "status": "completed"
    },
    "tags": []
   },
   "outputs": [
    {
     "name": "stdout",
     "output_type": "stream",
     "text": [
      "Dear valued customer,\n",
      "\n",
      "Thank you for taking the time to share your detailed feedback with us. We are sorry to hear about the issues you experienced with the pricing changes and the quality of the product. We apologize for any inconvenience this may have caused you.\n",
      "\n",
      "If you have any further concerns or would like to discuss this matter further, please feel free to reach out to our customer service team for assistance.\n",
      "\n",
      "We appreciate your feedback as it helps us to improve our products and services for all our customers.\n",
      "\n",
      "Thank you again for your review.\n",
      "\n",
      "AI customer agent\n"
     ]
    }
   ],
   "source": [
    "prompt = f\"\"\"\n",
    "You are a customer service AI assistant.\n",
    "Your task is to send an email reply to a valued customer.\n",
    "Given the customer email delimited by ```, \\\n",
    "Generate a reply to thank the customer for their review.\n",
    "If the sentiment is positive or neutral, thank them for \\\n",
    "their review.\n",
    "If the sentiment is negative, apologize and suggest that \\\n",
    "they can reach out to customer service. \n",
    "Make sure to use specific details from the review.\n",
    "Write in a concise and professional tone.\n",
    "Sign the email as `AI customer agent`.\n",
    "Customer review: ```{review}```\n",
    "Review sentiment: {sentiment}\n",
    "\"\"\"\n",
    "response = get_completion(prompt, temperature=0.3)\n",
    "print(response)"
   ]
  }
 ],
 "metadata": {
  "kaggle": {
   "accelerator": "none",
   "dataSources": [],
   "dockerImageVersionId": 30673,
   "isGpuEnabled": false,
   "isInternetEnabled": true,
   "language": "python",
   "sourceType": "notebook"
  },
  "kernelspec": {
   "display_name": "Python 3",
   "language": "python",
   "name": "python3"
  },
  "language_info": {
   "codemirror_mode": {
    "name": "ipython",
    "version": 3
   },
   "file_extension": ".py",
   "mimetype": "text/x-python",
   "name": "python",
   "nbconvert_exporter": "python",
   "pygments_lexer": "ipython3",
   "version": "3.10.13"
  },
  "papermill": {
   "default_parameters": {},
   "duration": 74.112918,
   "end_time": "2024-03-29T22:40:17.650987",
   "environment_variables": {},
   "exception": null,
   "input_path": "__notebook__.ipynb",
   "output_path": "__notebook__.ipynb",
   "parameters": {},
   "start_time": "2024-03-29T22:39:03.538069",
   "version": "2.5.0"
  }
 },
 "nbformat": 4,
 "nbformat_minor": 5
}
